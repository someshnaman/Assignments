{
 "cells": [
  {
   "cell_type": "markdown",
   "metadata": {},
   "source": [
    "Q-1. Write an SQL query to print the first three characters of  FIRST_NAME from Worker\n",
    "table."
   ]
  },
  {
   "cell_type": "code",
   "execution_count": 11,
   "metadata": {},
   "outputs": [],
   "source": [
    "import pyodbc\n",
    "conne = pyodbc.connect(\"Driver={SQL Server Native client 11.0};\"\n",
    "                       \"Server=DESKTOP-FURKR4H\\SOMESHNAMAN;\"\n",
    "                       \"Database=Human_resources;\"\n",
    "                       \"Trusted_Connection=yes;\")"
   ]
  },
  {
   "cell_type": "code",
   "execution_count": 12,
   "metadata": {},
   "outputs": [
    {
     "name": "stdout",
     "output_type": "stream",
     "text": [
      "('Uri', )\n",
      "('Tse', )\n",
      "('Udi', )\n",
      "('Gao', )\n",
      "('Ger', )\n",
      "('Tsz', )\n",
      "('Ulf', )\n",
      "('Uno', )\n",
      "('Gio', )\n",
      "('Gro', )\n",
      "('Goo', )\n",
      "('Van', )\n",
      "('Gou', )\n",
      "('Udi', )\n",
      "('Ute', )\n",
      "('Fei', )\n",
      "('Gil', )\n",
      "('Goo', )\n",
      "('Gou', )\n",
      "('Gio', )\n",
      "('Udo', )\n",
      "('Utz', )\n",
      "('Ger', )\n",
      "('Val', )\n",
      "('Uma', )\n",
      "('Goh', )\n",
      "('Gor', )\n",
      "('Tze', )\n",
      "('Gor', )\n",
      "('Tze', )\n",
      "('Gou', )\n",
      "('Udi', )\n",
      "('Fun', )\n",
      "('Gad', )\n",
      "('Gor', )\n",
      "('Gen', )\n",
      "('Tse', )\n",
      "('Tua', )\n",
      "('Ung', )\n",
      "('Goh', )\n",
      "('Tru', )\n",
      "('Tse', )\n",
      "('Ung', )\n",
      "('Goh', )\n",
      "('Gal', )\n",
      "('Uzi', )\n",
      "('Fay', )\n",
      "('Ult', )\n",
      "('Tru', )\n",
      "('Gil', )\n"
     ]
    }
   ],
   "source": [
    "cursor = conne.cursor()\n",
    "result = cursor.execute(\"select top 50 first_name from Employees  where first_name like '___' \")\n",
    "for row in result.fetchall():\n",
    "    print(row)"
   ]
  },
  {
   "cell_type": "markdown",
   "metadata": {},
   "source": [
    "Q-2. Write an SQL query to find the position of the alphabet (‘a’) in the first name\n",
    "column ‘Amitabh’ from Worker table."
   ]
  },
  {
   "cell_type": "code",
   "execution_count": 9,
   "metadata": {},
   "outputs": [
    {
     "name": "stdout",
     "output_type": "stream",
     "text": [
      "(1, )\n"
     ]
    }
   ],
   "source": [
    "cursor\n",
    "result = cursor.execute(\"select CHARINDEX('a','Aiman') as position\"  )\n",
    "for record in result.fetchall():\n",
    "    print(record)\n"
   ]
  },
  {
   "cell_type": "markdown",
   "metadata": {},
   "source": [
    "Q-3. Write an SQL query to print the name of employees having the highest salary in each\n",
    "department."
   ]
  },
  {
   "cell_type": "code",
   "execution_count": 14,
   "metadata": {},
   "outputs": [
    {
     "name": "stdout",
     "output_type": "stream",
     "text": [
      "(158220, 'Sales', 'Tokuyasu')\n",
      "(157821, 'Sales', 'Tokuyasu')\n",
      "(156286, 'Sales', 'Honesty')\n",
      "(155709, 'Sales', 'Xiahua')\n",
      "(155513, 'Sales', 'Sanjai')\n",
      "(155377, 'Sales', 'Tsutomu')\n",
      "(155190, 'Sales', 'Tsutomu')\n",
      "(154888, 'Sales', 'Tsutomu')\n",
      "(154885, 'Sales', 'Tsutomu')\n",
      "(154459, 'Sales', 'Willard')\n"
     ]
    }
   ],
   "source": [
    "cursor\n",
    "result = cursor.execute('''\n",
    "select top 10 Salary ,Department_name,\n",
    "Name_of_emp from (select \n",
    "dept_name as Department_name,\n",
    "first_name As Name_of_emp,\n",
    "([current_salary]) as Salary\n",
    "\n",
    "from Departments as dp  inner join [dbo].[Employee_Movements_History] as e_his\n",
    "on dp.dept_no = e_his.dept_no inner join Employees as emp\n",
    "on emp.emp_no=e_his.emp_no inner join  Salary_History as sls\n",
    "on emp.emp_no = sls.emp_no )  As Temp_query order by Salary desc ''' )\n",
    "for record in result.fetchall():\n",
    "    print(record)\n"
   ]
  },
  {
   "cell_type": "code",
   "execution_count": null,
   "metadata": {},
   "outputs": [],
   "source": []
  }
 ],
 "metadata": {
  "kernelspec": {
   "display_name": "Python 3",
   "language": "python",
   "name": "python3"
  },
  "language_info": {
   "codemirror_mode": {
    "name": "ipython",
    "version": 3
   },
   "file_extension": ".py",
   "mimetype": "text/x-python",
   "name": "python",
   "nbconvert_exporter": "python",
   "pygments_lexer": "ipython3",
   "version": "3.8.5"
  }
 },
 "nbformat": 4,
 "nbformat_minor": 4
}
