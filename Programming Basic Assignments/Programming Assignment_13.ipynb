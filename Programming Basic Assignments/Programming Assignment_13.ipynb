{
 "cells": [
  {
   "cell_type": "markdown",
   "metadata": {},
   "source": [
    "Question 1:\n",
    "Write a program that calculates and prints the value according to the given formula:\n",
    "Q = Square root of [(2 * C * D)/H]\n",
    "Following are the fixed values of C and H:\n",
    "C is 50. H is 30."
   ]
  },
  {
   "cell_type": "code",
   "execution_count": 14,
   "metadata": {},
   "outputs": [],
   "source": [
    "import math\n",
    "import pyinputplus\n",
    "class Calculations:\n",
    "    try:\n",
    "        \n",
    "        def sqaure(self):\n",
    "            listOfD=list(map(int,input(\"Please input the Value of D in Comma selprated form: \").split(\",\")))\n",
    "            resultList=[]\n",
    "            for i in range(len(listOfD)):                \n",
    "                R=(2*50*listOfD[i])/30\n",
    "                Q=math.sqrt(R)\n",
    "                resultList.append(Q)\n",
    "            return f'Here is our Result {resultList}'\n",
    "    except Exception as e:\n",
    "        print(\"Some error is there Please try Again\")\n",
    "        "
   ]
  },
  {
   "cell_type": "code",
   "execution_count": 16,
   "metadata": {},
   "outputs": [
    {
     "name": "stdout",
     "output_type": "stream",
     "text": [
      "Please input the Value of D in Comma selprated form: 100,150,180\n"
     ]
    },
    {
     "data": {
      "text/plain": [
       "'Here is our Result [18.257418583505537, 22.360679774997898, 24.49489742783178]'"
      ]
     },
     "execution_count": 16,
     "metadata": {},
     "output_type": "execute_result"
    }
   ],
   "source": [
    "squa=Calculations()\n",
    "squa.sqaure()\n",
    "                  \n"
   ]
  },
  {
   "cell_type": "markdown",
   "metadata": {},
   "source": [
    "Question 2:\n",
    "Write a program which takes 2 digits, X,Y as input and generates a 2-dimensional array. The\n",
    "element value in the i-th row and j-th column of the array should be i*j.\n",
    "Note: i=0,1.., X-1; j=0,1,¡Y-1.\n",
    "Example\n",
    "Suppose the following inputs are given to the program:\n",
    "3,5\n",
    "Then, the output of the program should be:\n",
    "[[0, 0, 0, 0, 0], [0, 1, 2, 3, 4], [0, 2, 4, 6, 8]]"
   ]
  },
  {
   "cell_type": "code",
   "execution_count": 17,
   "metadata": {},
   "outputs": [],
   "source": [
    "def makingArray(a,b):\n",
    "    result=[]\n",
    "    for i in range(a):\n",
    "        newlist=[i*j for j in range(b)]\n",
    "        result.append(newlist)\n",
    "    print(f\"Here is our Final Array: {result}\")\n",
    "    \n",
    "    "
   ]
  },
  {
   "cell_type": "code",
   "execution_count": 18,
   "metadata": {},
   "outputs": [
    {
     "name": "stdout",
     "output_type": "stream",
     "text": [
      "Here is our Final Array: [[0, 0, 0, 0, 0], [0, 1, 2, 3, 4], [0, 2, 4, 6, 8]]\n"
     ]
    }
   ],
   "source": [
    "makingArray(3,5)"
   ]
  },
  {
   "cell_type": "markdown",
   "metadata": {},
   "source": [
    "Question 3:\n",
    "Write a program that accepts a comma separated sequence of words as input and prints the\n",
    "words in a comma-separated sequence after sorting them alphabetically.\n",
    "Suppose the following input is supplied to the program:\n",
    "without,hello,bag,world\n",
    "Then, the output should be:\n",
    "bag,hello,without,world"
   ]
  },
  {
   "cell_type": "code",
   "execution_count": 19,
   "metadata": {},
   "outputs": [],
   "source": [
    "def sortingThings():\n",
    "    try:\n",
    "        userInput=list(input(\"Please Enter the commo seprated Value here:  \").split(','))\n",
    "        userInput=sorted(userInput)\n",
    "        return f\"Here is our Sorted list: {userInput}\"\n",
    "    except Exception as e:\n",
    "        print(\"Somesh Error is there\",e)"
   ]
  },
  {
   "cell_type": "code",
   "execution_count": 20,
   "metadata": {},
   "outputs": [
    {
     "name": "stdout",
     "output_type": "stream",
     "text": [
      "Please Enter the commo seprated Value here:  without,hello,bag,world\n"
     ]
    },
    {
     "data": {
      "text/plain": [
       "\"Here is our Sorted list: ['bag', 'hello', 'without', 'world']\""
      ]
     },
     "execution_count": 20,
     "metadata": {},
     "output_type": "execute_result"
    }
   ],
   "source": [
    "sortingThings()"
   ]
  },
  {
   "cell_type": "markdown",
   "metadata": {},
   "source": [
    "Question 4:\n",
    "Write a program that accepts a sequence of whitespace separated words as input and prints\n",
    "the words after removing all duplicate words and sorting them alphanumerically.\n",
    "Suppose the following input is supplied to the program:\n",
    "hello world and practice makes perfect and hello world again\n",
    "Then, the output should be:\n",
    "again and hello makes perfect practice world"
   ]
  },
  {
   "cell_type": "code",
   "execution_count": 35,
   "metadata": {},
   "outputs": [],
   "source": [
    "def ourfun():\n",
    "    try:\n",
    "        userInput=(input(\"Please Enter the Whitespace Value here:  \").split())               \n",
    "        updatedList=[]\n",
    "        for i in userInput:\n",
    "            if i not in updatedList:\n",
    "                updatedList.append(i)\n",
    "        \n",
    "        updatedList.sort()\n",
    "        k=\" \".join(updatedList)        \n",
    "        print(f\"Here is our Final worlds: {k}\")\n",
    "    except Exception as e:\n",
    "        print(\"Some Error is there\",e)\n",
    "     \n",
    "    "
   ]
  },
  {
   "cell_type": "code",
   "execution_count": 36,
   "metadata": {},
   "outputs": [
    {
     "name": "stdout",
     "output_type": "stream",
     "text": [
      "Please Enter the Whitespace Value here:  hello world and practice makes perfect and hello world again\n",
      "Here is our Final worlds: again and hello makes perfect practice world\n"
     ]
    }
   ],
   "source": [
    "ourfun()"
   ]
  },
  {
   "cell_type": "markdown",
   "metadata": {},
   "source": [
    "Question 5:\n",
    "Write a program that accepts a sentence and calculate the number of letters and digits.\n",
    "Suppose the following input is supplied to the program:\n",
    "hello world! 123\n",
    "Then, the output should be:\n",
    "LETTERS 10\n",
    "\n",
    "DIGITS 3"
   ]
  },
  {
   "cell_type": "code",
   "execution_count": 26,
   "metadata": {},
   "outputs": [],
   "source": [
    "class Length:\n",
    "    def noOfLength(self):\n",
    "        try:\n",
    "            userInput=input(\"Please enter the Sentence here: \").split()\n",
    "            digits=0\n",
    "            words=0\n",
    "            for i in userInput:                \n",
    "                \n",
    "                if i.isdigit():\n",
    "                    digits=digits+len(i)\n",
    "                else:\n",
    "                    words=words+len(i)\n",
    "            print(f'Here is our Final result: Total count of Digits= {digits} and Total count of words {words}')\n",
    "        except Exception as e:\n",
    "            \n",
    "            print(\" Somesh Error is there Please try again\",e)\n",
    "            \n",
    "            "
   ]
  },
  {
   "cell_type": "code",
   "execution_count": 29,
   "metadata": {},
   "outputs": [],
   "source": [
    "A=Length()"
   ]
  },
  {
   "cell_type": "code",
   "execution_count": 30,
   "metadata": {},
   "outputs": [
    {
     "name": "stdout",
     "output_type": "stream",
     "text": [
      "Please enter the Sentence here: hello world! 123\n",
      "hello\n",
      "world!\n",
      "123\n",
      "Here is our Final result: Total count of Digits= 3 and Total count of words 11\n"
     ]
    }
   ],
   "source": [
    "A.noOfLength()"
   ]
  },
  {
   "cell_type": "markdown",
   "metadata": {},
   "source": [
    "Question 6:\n",
    "A website requires the users to input username and password to register. Write a program to\n",
    "check the validity of password input by users.\n",
    "Following are the criteria for checking the password:\n",
    "1. At least 1 letter between [a-z]\n",
    "2. At least 1 number between [0-9]\n",
    "1. At least 1 letter between [A-Z]\n",
    "3. At least 1 character from [$#@]\n",
    "4. Minimum length of transaction password: 6\n",
    "5. Maximum length of transaction password: 12\n",
    "Your program should accept a sequence of comma separated passwords and will check them\n",
    "according to the above criteria. Passwords that match the criteria are to be printed, each\n",
    "separated by a comma.\n",
    "Example\n",
    "If the following passwords are given as input to the program:\n",
    "ABd1234@1,a F1#,2w3E*,2We3345\n",
    "Then, the output of the program should be:\n",
    "ABd1234@1"
   ]
  },
  {
   "cell_type": "code",
   "execution_count": 32,
   "metadata": {},
   "outputs": [],
   "source": [
    "import re\n",
    "def password():\n",
    "    aceepted_passw=[]\n",
    "    userInput=input(\"Please input the entires here: \").split(',')\n",
    "    for i in userInput:\n",
    "        if not 6<len(i)<12:\n",
    "            continue\n",
    "        if not re.search((\"[a-z]*\"),i):\n",
    "            continue\n",
    "        elif not re.search((\"[A-Z]*\"),i):\n",
    "            continue\n",
    "        elif not re.search((\"[0-9]*\"),i):\n",
    "            continue\n",
    "        elif not re.search((\"[$|#|@]\"),i):\n",
    "            continue\n",
    "        else:\n",
    "            aceepted_passw.append(i)\n",
    "    print(f\"Here is the list of pass which is approved:  {aceepted_passw}\")\n",
    "        "
   ]
  },
  {
   "cell_type": "code",
   "execution_count": 33,
   "metadata": {},
   "outputs": [
    {
     "name": "stdout",
     "output_type": "stream",
     "text": [
      "Please input the entires here: ABd1234@1,a F1#,2w3E*,2We3345\n",
      "Here is the list of pass which is approved:  ['ABd1234@1']\n"
     ]
    }
   ],
   "source": [
    "password()"
   ]
  },
  {
   "cell_type": "code",
   "execution_count": null,
   "metadata": {},
   "outputs": [],
   "source": []
  }
 ],
 "metadata": {
  "kernelspec": {
   "display_name": "Python 3",
   "language": "python",
   "name": "python3"
  },
  "language_info": {
   "codemirror_mode": {
    "name": "ipython",
    "version": 3
   },
   "file_extension": ".py",
   "mimetype": "text/x-python",
   "name": "python",
   "nbconvert_exporter": "python",
   "pygments_lexer": "ipython3",
   "version": "3.8.5"
  }
 },
 "nbformat": 4,
 "nbformat_minor": 4
}
