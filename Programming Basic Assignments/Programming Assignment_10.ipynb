{
 "cells": [
  {
   "cell_type": "markdown",
   "metadata": {},
   "source": [
    "1. Write a Python program to find sum of elements in list?"
   ]
  },
  {
   "cell_type": "code",
   "execution_count": 18,
   "metadata": {},
   "outputs": [],
   "source": [
    "def sumList():\n",
    "    ourList=[]\n",
    "    try:\n",
    "        inputNoOfElement=int(input(\"Please enter the number of elemnts in the list \"))\n",
    "        try:\n",
    "            for i in range(1,inputNoOfElement+1):\n",
    "                element=int(input(f\"Please enter the {i} value \"))\n",
    "                ourList.append(element)\n",
    "                        \n",
    "            return f\"Here is our sum of list: {sum(ourList)}\"\n",
    "        except Exception as e:\n",
    "            print(\"ïnput is not correct please try again\")\n",
    "                        \n",
    "    except Exception as e:\n",
    "        print(\"there has been some mistake Please try again\")\n",
    "        \n",
    "    "
   ]
  },
  {
   "cell_type": "code",
   "execution_count": 19,
   "metadata": {},
   "outputs": [
    {
     "name": "stdout",
     "output_type": "stream",
     "text": [
      "Please enter the number of elemnts in the list 5\n",
      "Please enter the 1 value 12\n",
      "Please enter the 2 value 512\n",
      "Please enter the 3 value 51\n",
      "Please enter the 4 value 21\n",
      "Please enter the 5 value 25\n"
     ]
    },
    {
     "data": {
      "text/plain": [
       "'Here is our sum of list: 621'"
      ]
     },
     "execution_count": 19,
     "metadata": {},
     "output_type": "execute_result"
    }
   ],
   "source": [
    "sumList()"
   ]
  },
  {
   "cell_type": "markdown",
   "metadata": {},
   "source": [
    "2. Write a Python program to Multiply all numbers in the list?"
   ]
  },
  {
   "cell_type": "code",
   "execution_count": 30,
   "metadata": {},
   "outputs": [],
   "source": [
    "def mulList():\n",
    "    ourList=[]\n",
    "    result=1\n",
    "    try:\n",
    "        inputNoOfElement=int(input(\"Please enter the number of elemnts in the list \"))\n",
    "        try:\n",
    "            for i in range(1,inputNoOfElement+1):\n",
    "                element=int(input(f\"Please enter the {i} value \"))\n",
    "                ourList.append(element)\n",
    "                result=result*element\n",
    "                        \n",
    "            return f\"So Our list is {ourList} and Multiplication of our  list is: {result}\"\n",
    "        except Exception as e:\n",
    "            print(\"ïnput is not correct please try again\")\n",
    "                        \n",
    "    except Exception as e:\n",
    "        print(\"there has been some mistake Please try again\")\n",
    "        \n",
    "    "
   ]
  },
  {
   "cell_type": "code",
   "execution_count": 31,
   "metadata": {},
   "outputs": [
    {
     "name": "stdout",
     "output_type": "stream",
     "text": [
      "Please enter the number of elemnts in the list 4\n",
      "Please enter the 1 value 21\n",
      "Please enter the 2 value 212\n",
      "Please enter the 3 value 5\n",
      "Please enter the 4 value 36\n"
     ]
    },
    {
     "data": {
      "text/plain": [
       "'So Our list is [21, 212, 5, 36] and Multiplication of our  list is: 801360'"
      ]
     },
     "execution_count": 31,
     "metadata": {},
     "output_type": "execute_result"
    }
   ],
   "source": [
    "mulList()"
   ]
  },
  {
   "cell_type": "markdown",
   "metadata": {},
   "source": [
    "3. Write a Python program to find smallest number in a list?"
   ]
  },
  {
   "cell_type": "code",
   "execution_count": 28,
   "metadata": {},
   "outputs": [],
   "source": [
    "def minList():\n",
    "    ourList=[]\n",
    "    try:\n",
    "        inputNoOfElement=int(input(\"Please enter the number of elemnts in the list \"))\n",
    "        try:\n",
    "            for i in range(1,inputNoOfElement+1):\n",
    "                element=int(input(f\"Please enter the {i} value \"))\n",
    "                ourList.append(element)\n",
    "                        \n",
    "            return f\"So Our list is {ourList} and min of our list is: {min(ourList)}\"\n",
    "        except Exception as e:\n",
    "            print(\"ïnput is not correct please try again\")\n",
    "                        \n",
    "    except Exception as e:\n",
    "        print(\"there has been some mistake Please try again\")\n",
    "        \n",
    "    "
   ]
  },
  {
   "cell_type": "code",
   "execution_count": 29,
   "metadata": {},
   "outputs": [
    {
     "name": "stdout",
     "output_type": "stream",
     "text": [
      "Please enter the number of elemnts in the list 4\n",
      "Please enter the 1 value 21\n",
      "Please enter the 2 value 12\n",
      "Please enter the 3 value 30\n",
      "Please enter the 4 value 15\n"
     ]
    },
    {
     "data": {
      "text/plain": [
       "'So Our list is [21, 12, 30, 15] and min of our list: 12'"
      ]
     },
     "execution_count": 29,
     "metadata": {},
     "output_type": "execute_result"
    }
   ],
   "source": [
    "minList()"
   ]
  },
  {
   "cell_type": "markdown",
   "metadata": {},
   "source": [
    "4. Write a Python program to find largest number in a list?"
   ]
  },
  {
   "cell_type": "code",
   "execution_count": 32,
   "metadata": {},
   "outputs": [],
   "source": [
    "def maxList():\n",
    "    ourList=[]\n",
    "    try:\n",
    "        inputNoOfElement=int(input(\"Please enter the number of elemnts in the list \"))\n",
    "        try:\n",
    "            for i in range(1,inputNoOfElement+1):\n",
    "                element=int(input(f\"Please enter the {i} value \"))\n",
    "                ourList.append(element)\n",
    "                        \n",
    "            return f\"So Our list is {ourList} and min of our list is: {max(ourList)}\"\n",
    "        except Exception as e:\n",
    "            print(\"ïnput is not correct please try again\")\n",
    "                        \n",
    "    except Exception as e:\n",
    "        print(\"there has been some mistake Please try again\")\n",
    "        \n",
    "    "
   ]
  },
  {
   "cell_type": "code",
   "execution_count": 33,
   "metadata": {},
   "outputs": [
    {
     "name": "stdout",
     "output_type": "stream",
     "text": [
      "Please enter the number of elemnts in the list 6\n",
      "Please enter the 1 value 25\n",
      "Please enter the 2 value 152\n",
      "Please enter the 3 value 3214\n",
      "Please enter the 4 value 251\n",
      "Please enter the 5 value 345125\n",
      "Please enter the 6 value 1523\n"
     ]
    },
    {
     "data": {
      "text/plain": [
       "'So Our list is [25, 152, 3214, 251, 345125, 1523] and min of our list is: 345125'"
      ]
     },
     "execution_count": 33,
     "metadata": {},
     "output_type": "execute_result"
    }
   ],
   "source": [
    "maxList()"
   ]
  },
  {
   "cell_type": "markdown",
   "metadata": {},
   "source": [
    "5. Write a Python program to find second largest number in a list?"
   ]
  },
  {
   "cell_type": "code",
   "execution_count": 38,
   "metadata": {},
   "outputs": [],
   "source": [
    "def secLarge():\n",
    "    ourList=[]\n",
    "    try:\n",
    "        inputNoOfElement=int(input(\"Please enter the number of elemnts in the list \"))\n",
    "        try:\n",
    "            for i in range(1,inputNoOfElement+1):\n",
    "                element=int(input(f\"Please enter the {i} value \"))\n",
    "                ourList.append(element)\n",
    "            sortedList=sorted(ourList)\n",
    "            \n",
    "            return f\"The second largest Number is : {ourList[-2]}\" \n",
    "        \n",
    "        except Exception as e:  \n",
    "            \n",
    "            print(\"ïnput is not correct please try again\")\n",
    "                        \n",
    "    except Exception as e:\n",
    "        print(\"there has been some mistake Please try again\")\n",
    "        "
   ]
  },
  {
   "cell_type": "code",
   "execution_count": 39,
   "metadata": {},
   "outputs": [
    {
     "name": "stdout",
     "output_type": "stream",
     "text": [
      "Please enter the number of elemnts in the list 4\n",
      "Please enter the 1 value 32\n",
      "Please enter the 2 value 25\n",
      "Please enter the 3 value 14\n",
      "Please enter the 4 value 26\n"
     ]
    },
    {
     "data": {
      "text/plain": [
       "'The second largest Number is : 14'"
      ]
     },
     "execution_count": 39,
     "metadata": {},
     "output_type": "execute_result"
    }
   ],
   "source": [
    "secLarge()"
   ]
  },
  {
   "cell_type": "markdown",
   "metadata": {},
   "source": [
    "6. Write a Python program to find N largest elements from a list?"
   ]
  },
  {
   "cell_type": "code",
   "execution_count": 46,
   "metadata": {},
   "outputs": [],
   "source": [
    "def noOfLargeNumbers():    \n",
    "    ourList=[]\n",
    "    try:        \n",
    "        inputNoOfElement=int(input(\"Please enter the number of elemnts in the list \"))\n",
    "        try:\n",
    "            for i in range(1,inputNoOfElement+1):\n",
    "                element=int(input(f\"Please enter the {i} value \"))               \n",
    "                ourList.append(element)\n",
    "            N=int(input(\"Please enter the number of Large element you want to seek from the list: \"))\n",
    "            \n",
    "            sortedList=sorted(ourList)\n",
    "            \n",
    "            listOflargestNo=[sortedList[-i] for i in range(1,N+1)]\n",
    "            \n",
    "            return f\"Here is our original list: {ourList} and list of {N} largest number of our list: {listOflargestNo}\"  \n",
    "                \n",
    "        except Exception as e:  \n",
    "            \n",
    "            print(\"Input is not correct please try again\")\n",
    "                        \n",
    "    except Exception as e:\n",
    "        print(\"there has been some mistake Please try again\")\n",
    "        "
   ]
  },
  {
   "cell_type": "code",
   "execution_count": 43,
   "metadata": {},
   "outputs": [
    {
     "name": "stdout",
     "output_type": "stream",
     "text": [
      "Please enter the number of elemnts in the list 10\n",
      "Please enter the 1 value 15\n",
      "Please enter the 2 value 254\n",
      "Please enter the 3 value 256\n",
      "Please enter the 4 value 2514\n",
      "Please enter the 5 value 2584\n",
      "Please enter the 6 value 365\n",
      "Please enter the 7 value 251\n",
      "Please enter the 8 value 2645\n",
      "Please enter the 9 value 2548\n",
      "Please enter the 10 value 25486\n",
      "Please enter the number of Large element you want to seek from the list: 6\n"
     ]
    },
    {
     "data": {
      "text/plain": [
       "'Here is our original list: [15, 254, 256, 2514, 2584, 365, 251, 2645, 2548, 25486] and list of 6 largest number of our list: [25486, 2645, 2584, 2548, 2514, 365]'"
      ]
     },
     "execution_count": 43,
     "metadata": {},
     "output_type": "execute_result"
    }
   ],
   "source": [
    "noOfLargeNumbers()"
   ]
  },
  {
   "cell_type": "markdown",
   "metadata": {},
   "source": [
    "7. Write a Python program to print even numbers in a list?"
   ]
  },
  {
   "cell_type": "code",
   "execution_count": null,
   "metadata": {},
   "outputs": [],
   "source": [
    "def evenNo():\n",
    "    ourList=[]\n",
    "    try:\n",
    "        inputNoOfElement=int(input(\"Please enter the number of elemnts in the list \"))\n",
    "        try:\n",
    "            for i in range(1,inputNoOfElement+1):\n",
    "                element=int(input(f\"Please enter the {i} value \"))\n",
    "                ourList.append(element)\n",
    "            listOfEvenNo=[i for i in ourList if i%2==0]\n",
    "            \n",
    "            return f\"Here is our given list: {ourList} and the list of even number is: {listOfEvenNo}\" \n",
    "        except Exception as e:  \n",
    "            \n",
    "            print(\"ïnput is not correct please try again\")\n",
    "                        \n",
    "    except Exception as e:\n",
    "        print(\"there has been some mistake Please try again\")\n",
    "        "
   ]
  },
  {
   "cell_type": "code",
   "execution_count": 47,
   "metadata": {},
   "outputs": [
    {
     "name": "stdout",
     "output_type": "stream",
     "text": [
      "Please enter the number of elemnts in the list 6\n",
      "Please enter the 1 value 2\n",
      "Please enter the 2 value 48\n",
      "Please enter the 3 value 5\n",
      "Please enter the 4 value 15\n",
      "Please enter the 5 value 9\n",
      "Please enter the 6 value 36\n"
     ]
    },
    {
     "data": {
      "text/plain": [
       "'Here is our given list: [2, 48, 5, 15, 9, 36] and the list of even number is: [2, 48, 36]'"
      ]
     },
     "execution_count": 47,
     "metadata": {},
     "output_type": "execute_result"
    }
   ],
   "source": [
    "evenNo()"
   ]
  },
  {
   "cell_type": "markdown",
   "metadata": {},
   "source": [
    "8. Write a Python program to print odd numbers in a List?"
   ]
  },
  {
   "cell_type": "code",
   "execution_count": 50,
   "metadata": {},
   "outputs": [],
   "source": [
    "def oddNo():\n",
    "    ourList=[]\n",
    "    try:\n",
    "        inputNoOfElement=int(input(\"Please enter the number of elemnts in the list \"))\n",
    "        try:\n",
    "            for i in range(1,inputNoOfElement+1):\n",
    "                element=int(input(f\"Please enter the {i} value \"))\n",
    "                ourList.append(element)\n",
    "            listOfoddNo=[i for i in ourList if i%2!=0]\n",
    "            \n",
    "            return f\"Here is our given list: {ourList} and the list of odd number is: {listOfoddNo}\" \n",
    "        except Exception as e:  \n",
    "            \n",
    "            print(\"ïnput is not correct please try again\")\n",
    "                        \n",
    "    except Exception as e:\n",
    "        print(\"there has been some mistake Please try again\")\n",
    "        "
   ]
  },
  {
   "cell_type": "code",
   "execution_count": 51,
   "metadata": {},
   "outputs": [
    {
     "name": "stdout",
     "output_type": "stream",
     "text": [
      "Please enter the number of elemnts in the list 8\n",
      "Please enter the 1 value 24\n",
      "Please enter the 2 value 118\n",
      "Please enter the 3 value 25\n",
      "Please enter the 4 value 13\n",
      "Please enter the 5 value 15\n",
      "Please enter the 6 value 13\n",
      "Please enter the 7 value 36\n",
      "Please enter the 8 value 42\n"
     ]
    },
    {
     "data": {
      "text/plain": [
       "'Here is our given list: [24, 118, 25, 13, 15, 13, 36, 42] and the list of odd number is: [25, 13, 15, 13]'"
      ]
     },
     "execution_count": 51,
     "metadata": {},
     "output_type": "execute_result"
    }
   ],
   "source": [
    "oddNo()"
   ]
  },
  {
   "cell_type": "markdown",
   "metadata": {},
   "source": [
    "9. Write a Python program to Remove empty List from List"
   ]
  },
  {
   "cell_type": "code",
   "execution_count": 62,
   "metadata": {},
   "outputs": [],
   "source": [
    "def removeEmotyList(list1):\n",
    "    try:\n",
    "        if type(list1)==list:\n",
    "            for i in list1:\n",
    "                if type(i)==list and len(i)==0 :\n",
    "                    list1.remove(i)\n",
    "            return f'The final list is {list1}'\n",
    "        else:\n",
    "            print(\"User has not entered a list Please try again\")\n",
    "    except Exception as e:\n",
    "        print(\"Some Error has occucred \",e)\n",
    "    "
   ]
  },
  {
   "cell_type": "code",
   "execution_count": 67,
   "metadata": {},
   "outputs": [
    {
     "data": {
      "text/plain": [
       "\"The final list is [1, 2, 6, [25, 58], 'somesh']\""
      ]
     },
     "execution_count": 67,
     "metadata": {},
     "output_type": "execute_result"
    }
   ],
   "source": [
    "removeEmotyList([1,2,6,[],[25,58],\"somesh\",[]])"
   ]
  },
  {
   "cell_type": "markdown",
   "metadata": {},
   "source": [
    "10. Write a Python program to Cloning or Copying a list?"
   ]
  },
  {
   "cell_type": "code",
   "execution_count": 80,
   "metadata": {},
   "outputs": [],
   "source": [
    "def copyList(list1):\n",
    "    newList=list(list1) # This list function act as a list constructor\n",
    "    return f'The Copied list is {newList}'"
   ]
  },
  {
   "cell_type": "code",
   "execution_count": 82,
   "metadata": {},
   "outputs": [
    {
     "data": {
      "text/plain": [
       "'The Copied list is [1, 2, 5, 4, 8, 9]'"
      ]
     },
     "execution_count": 82,
     "metadata": {},
     "output_type": "execute_result"
    }
   ],
   "source": [
    "copyList([1,2,5,4,8,9])"
   ]
  },
  {
   "cell_type": "markdown",
   "metadata": {},
   "source": [
    "11. Write a Python program to Count occurrences of an element in a list?"
   ]
  },
  {
   "cell_type": "code",
   "execution_count": 83,
   "metadata": {},
   "outputs": [],
   "source": [
    "def countInList():\n",
    "    ourList=[]\n",
    "    try:\n",
    "        inputNoOfElement=int(input(\"Please enter the number of elemnts in the list \"))\n",
    "        try:\n",
    "            for i in range(1,inputNoOfElement+1):\n",
    "                element=int(input(f\"Please enter the {i} value \"))\n",
    "                ourList.append(element)\n",
    "            noToFind=int(input(\"Please enter the Number whose count which you want to find: \"))\n",
    "            no=ourList.count(noToFind)\n",
    "            \n",
    "            return f\"Here is our given list: {ourList} and number of occurance of {noToFind} is: {no}\" \n",
    "        except Exception as e:  \n",
    "            \n",
    "            print(\"ïnput is not correct please try again\")\n",
    "                        \n",
    "    except Exception as e:\n",
    "        print(\"there has been some mistake Please try again\")\n",
    "        \n",
    "    "
   ]
  },
  {
   "cell_type": "code",
   "execution_count": null,
   "metadata": {},
   "outputs": [
    {
     "name": "stdout",
     "output_type": "stream",
     "text": [
      "Please enter the number of elemnts in the list 10\n"
     ]
    }
   ],
   "source": [
    "countInList()"
   ]
  },
  {
   "cell_type": "code",
   "execution_count": null,
   "metadata": {},
   "outputs": [],
   "source": []
  }
 ],
 "metadata": {
  "kernelspec": {
   "display_name": "Python 3",
   "language": "python",
   "name": "python3"
  },
  "language_info": {
   "codemirror_mode": {
    "name": "ipython",
    "version": 3
   },
   "file_extension": ".py",
   "mimetype": "text/x-python",
   "name": "python",
   "nbconvert_exporter": "python",
   "pygments_lexer": "ipython3",
   "version": "3.8.5"
  }
 },
 "nbformat": 4,
 "nbformat_minor": 4
}
