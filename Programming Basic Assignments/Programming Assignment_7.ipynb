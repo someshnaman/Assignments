{
 "cells": [
  {
   "cell_type": "markdown",
   "metadata": {},
   "source": [
    "1. Write a Python Program to find sum of array?"
   ]
  },
  {
   "cell_type": "code",
   "execution_count": 13,
   "metadata": {},
   "outputs": [
    {
     "data": {
      "text/plain": [
       "21"
      ]
     },
     "execution_count": 13,
     "metadata": {},
     "output_type": "execute_result"
    }
   ],
   "source": [
    "from array import *\n",
    "def sum_arr(arr1):\n",
    "    return sum(arr1)\n",
    "arr1=array('i',[1,2,3,4,5,6])\n",
    "\n",
    "sum_arr(arr1)"
   ]
  },
  {
   "cell_type": "markdown",
   "metadata": {},
   "source": [
    "2. Write a Python Program to find largest element in an array?"
   ]
  },
  {
   "cell_type": "code",
   "execution_count": 24,
   "metadata": {},
   "outputs": [
    {
     "data": {
      "text/plain": [
       "6"
      ]
     },
     "execution_count": 24,
     "metadata": {},
     "output_type": "execute_result"
    }
   ],
   "source": [
    "def max_arr(arr):\n",
    "    return max(arr)\n",
    "arr1=array('i',[1,2,3,4,5,6])\n",
    "max_arr(arr1)\n",
    "\n"
   ]
  },
  {
   "cell_type": "markdown",
   "metadata": {},
   "source": [
    "3. Write a Python Program for array rotation?"
   ]
  },
  {
   "cell_type": "code",
   "execution_count": 51,
   "metadata": {},
   "outputs": [],
   "source": [
    "def rotate_arr(arr,number_of_steps):\n",
    "    #ask user wheather he wants the rotation clock wise of anticlockwise \n",
    "    rotation_input=int(input(\"Please enter 0 for clockwise and 1 for anticlockwise rotation: \"))\n",
    "    \n",
    "    #condition for clockwise \n",
    "    if rotation_input==0:\n",
    "        for i in range(number_of_steps):            \n",
    "            j=arr.pop(0)            \n",
    "            arr.append(j)\n",
    "        return arr\n",
    "    else:\n",
    "        #Condition for anticlockwise\n",
    "        for i in range(number_of_steps):\n",
    "            j=arr.pop()\n",
    "            arr.insert(0,j)\n",
    "        return arr   "
   ]
  },
  {
   "cell_type": "code",
   "execution_count": 60,
   "metadata": {},
   "outputs": [
    {
     "name": "stdout",
     "output_type": "stream",
     "text": [
      "Please enter 0 for clockwise and 1 for anticlockwise rotation: 1\n"
     ]
    },
    {
     "data": {
      "text/plain": [
       "array('i', [8, 7, 1, 5, 4])"
      ]
     },
     "execution_count": 60,
     "metadata": {},
     "output_type": "execute_result"
    }
   ],
   "source": [
    "rotate_arr(array('i',[1,5,4,8,7]),2)"
   ]
  },
  {
   "cell_type": "markdown",
   "metadata": {},
   "source": [
    "4. Write a Python Program to Split the array and add the first part to the end?"
   ]
  },
  {
   "cell_type": "code",
   "execution_count": 65,
   "metadata": {},
   "outputs": [],
   "source": [
    "def split_arr(arr,indexes_till_you_want_to_split):\n",
    "    splitted_arr=[arr.pop(0)  for i in range(indexes_till_you_want_to_split)]\n",
    "    arr.extend(splitted_arr)\n",
    "    return arr"
   ]
  },
  {
   "cell_type": "code",
   "execution_count": 66,
   "metadata": {},
   "outputs": [
    {
     "data": {
      "text/plain": [
       "array('i', [48, 54, 53, 56, 12, 24, 36])"
      ]
     },
     "execution_count": 66,
     "metadata": {},
     "output_type": "execute_result"
    }
   ],
   "source": [
    "arr2=array('i',[12,24,36,48,54,53,56])\n",
    "split_arr(arr2,3)"
   ]
  },
  {
   "cell_type": "markdown",
   "metadata": {},
   "source": [
    "5. Write a Python Program to check if given array is Monotonic?"
   ]
  },
  {
   "cell_type": "code",
   "execution_count": 68,
   "metadata": {},
   "outputs": [
    {
     "data": {
      "text/plain": [
       "[2, 4, 5, 6, 7, 8]"
      ]
     },
     "execution_count": 68,
     "metadata": {},
     "output_type": "execute_result"
    }
   ],
   "source": [
    "j=[5,2,4,8,6,7]\n",
    "sorted(j)"
   ]
  },
  {
   "cell_type": "markdown",
   "metadata": {},
   "source": [
    "5. Write a Python Program to check if given array is Monotonic?"
   ]
  },
  {
   "cell_type": "code",
   "execution_count": 91,
   "metadata": {},
   "outputs": [],
   "source": [
    "def monotonic_arr(arr):\n",
    "    return (all(arr[i] <= arr[i+1] for i in range(len(arr)-1) or \n",
    "            all(arr[i] >= arr[i+1] for i in range(len(arr)-1))))"
   ]
  },
  {
   "cell_type": "code",
   "execution_count": 92,
   "metadata": {},
   "outputs": [
    {
     "data": {
      "text/plain": [
       "True"
      ]
     },
     "execution_count": 92,
     "metadata": {},
     "output_type": "execute_result"
    }
   ],
   "source": [
    "a=[1,2,3]\n",
    "monotonic_arr(a)"
   ]
  },
  {
   "cell_type": "code",
   "execution_count": null,
   "metadata": {},
   "outputs": [],
   "source": []
  }
 ],
 "metadata": {
  "kernelspec": {
   "display_name": "Python 3",
   "language": "python",
   "name": "python3"
  },
  "language_info": {
   "codemirror_mode": {
    "name": "ipython",
    "version": 3
   },
   "file_extension": ".py",
   "mimetype": "text/x-python",
   "name": "python",
   "nbconvert_exporter": "python",
   "pygments_lexer": "ipython3",
   "version": "3.8.5"
  }
 },
 "nbformat": 4,
 "nbformat_minor": 4
}
