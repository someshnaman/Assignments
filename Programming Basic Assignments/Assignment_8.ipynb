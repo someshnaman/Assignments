{
 "cells": [
  {
   "cell_type": "markdown",
   "metadata": {},
   "source": [
    "1. Is the Python Standard Library included with PyInputPlus?"
   ]
  },
  {
   "cell_type": "code",
   "execution_count": null,
   "metadata": {},
   "outputs": [],
   "source": [
    "#No, By default Pyinputplus library is not installed into standard library. for using it we've to install it through pip."
   ]
  },
  {
   "cell_type": "markdown",
   "metadata": {},
   "source": [
    "2. Why is PyInputPlus commonly imported with import pyinputplus as pypi?"
   ]
  },
  {
   "cell_type": "code",
   "execution_count": null,
   "metadata": {},
   "outputs": [],
   "source": [
    "'''\n",
    "it is not neccessary that we import PyInputPlus as pypi. it is just an alias. We can use anything instead of pypi\n",
    "but for our convenience to import as pypi. Moreover if we don't want to import our package as alias it is completely fine\n",
    "\n",
    "'''\n"
   ]
  },
  {
   "cell_type": "markdown",
   "metadata": {},
   "source": [
    "3. How do you distinguish between inputInt() and inputFloat()?"
   ]
  },
  {
   "cell_type": "code",
   "execution_count": 15,
   "metadata": {},
   "outputs": [
    {
     "name": "stdout",
     "output_type": "stream",
     "text": [
      "14\n",
      "<class 'float'>\n"
     ]
    }
   ],
   "source": [
    "'''\n",
    "pypi.inputInt() method Prompts the user to enter an integer value. Returns the integer as an int value.\n",
    "whereas pypi.inputFloat() method Prompts the user to enter an float value. Returns the Float as an int value.\n",
    "for pypi.inputFloat(), even if we provide Int input it'll accept the input but return the value into Float\n",
    "'''\n",
    "k=pypi.inputFloat()\n",
    "print(type(k))"
   ]
  },
  {
   "cell_type": "markdown",
   "metadata": {},
   "source": [
    "4. Using PyInputPlus, how do you ensure that the user enters a whole number between 0 and 99?"
   ]
  },
  {
   "cell_type": "code",
   "execution_count": 6,
   "metadata": {},
   "outputs": [
    {
     "name": "stdout",
     "output_type": "stream",
     "text": [
      "Please enter whole number between 0 and 99: 102\n",
      "Number must be at maximum 99.\n",
      "Please enter whole number between 0 and 99: -25\n",
      "Number must be at minimum 0.\n",
      "Please enter whole number between 0 and 99: 26\n"
     ]
    }
   ],
   "source": [
    "# by using inputInt() method and seeting up the min and max value we can achive above condition.\n",
    "j=pypi.inputInt(\"Please enter whole number between 0 and 99: \",min=0,max=99)"
   ]
  },
  {
   "cell_type": "code",
   "execution_count": null,
   "metadata": {},
   "outputs": [],
   "source": []
  }
 ],
 "metadata": {
  "kernelspec": {
   "display_name": "Python 3",
   "language": "python",
   "name": "python3"
  },
  "language_info": {
   "codemirror_mode": {
    "name": "ipython",
    "version": 3
   },
   "file_extension": ".py",
   "mimetype": "text/x-python",
   "name": "python",
   "nbconvert_exporter": "python",
   "pygments_lexer": "ipython3",
   "version": "3.8.5"
  }
 },
 "nbformat": 4,
 "nbformat_minor": 4
}
