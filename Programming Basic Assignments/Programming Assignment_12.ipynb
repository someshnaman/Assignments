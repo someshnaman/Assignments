{
 "cells": [
  {
   "cell_type": "markdown",
   "metadata": {},
   "source": [
    "1. Write a Python program to Extract Unique values dictionary values?"
   ]
  },
  {
   "cell_type": "code",
   "execution_count": 9,
   "metadata": {},
   "outputs": [],
   "source": [
    "def uniqueDict(**kwargs):\n",
    "    unique=[]\n",
    "    for i,j in kwargs.items():\n",
    "        if j not in unique:\n",
    "            unique.append(j)\n",
    "            \n",
    "    print(f\"Here is our unique updated list: {unique}\")"
   ]
  },
  {
   "cell_type": "code",
   "execution_count": 10,
   "metadata": {},
   "outputs": [
    {
     "name": "stdout",
     "output_type": "stream",
     "text": [
      "Here is our unique updated list: [1, 2, 25, 256, 26]\n"
     ]
    }
   ],
   "source": [
    "uniqueDict(**{'a':1,'b':2,'c':1,'d':25,'e':256,'f':25,'h':26})"
   ]
  },
  {
   "cell_type": "markdown",
   "metadata": {},
   "source": [
    "2. Write a Python program to find the sum of all items in a dictionary?"
   ]
  },
  {
   "cell_type": "code",
   "execution_count": 5,
   "metadata": {},
   "outputs": [],
   "source": [
    "from pyinputplus import *\n",
    "def sumDict():\n",
    "    #creating dict\n",
    "    dictionary={}\n",
    "    noOkeys=inputNum(\"Please input the number of keys you wanna put into your dict: \")\n",
    "    i=1\n",
    "    while(i<noOkeys+1):        \n",
    "        userInputkey=input(f\"Please input the {i} Key\")\n",
    "        if userInputkey in dictionary:\n",
    "            print(\"This Key already exist in dict .Key Should be unique\\nPlease try again\")            \n",
    "            continue\n",
    "        else:\n",
    "            userInputvalue=inputNum(f\"Please enter your {i} value\")     \n",
    "            dictionary[userInputkey]=userInputvalue\n",
    "            i+=1\n",
    "    sumofvalue=0\n",
    "    for i,j in dictionary.items():\n",
    "        sumofvalue=sumofvalue+j\n",
    "    print(f\"Here is our Sum of al the Values: {sumofvalue}\")\n",
    "        \n"
   ]
  },
  {
   "cell_type": "code",
   "execution_count": 18,
   "metadata": {},
   "outputs": [
    {
     "name": "stdout",
     "output_type": "stream",
     "text": [
      "Please input the number of keys you wanna put into your dict: 5\n",
      "Please input the 1 Keysomesh\n",
      "Please enter your 1 value253\n",
      "Please input the 2 Keyvyom\n",
      "Please enter your 2 value25\n",
      "Please input the 3 Keysom\n",
      "Please enter your 3 value152\n",
      "Please input the 4 Keyhgy\n",
      "Please enter your 4 value5126\n",
      "Please input the 5 Keyshyg\n",
      "Please enter your 5 value15236\n",
      "Here is our Sum of al the Values: 20792\n"
     ]
    }
   ],
   "source": [
    "sumDict()"
   ]
  },
  {
   "cell_type": "markdown",
   "metadata": {},
   "source": [
    "3. Write a Python program to Merging two Dictionaries?"
   ]
  },
  {
   "cell_type": "code",
   "execution_count": 32,
   "metadata": {},
   "outputs": [],
   "source": [
    "def mergeDict(dict1,dict2):\n",
    "    try:\n",
    "        dict1.update(dict2)\n",
    "        print(f\"Here is Our Merged Dict: {dict1}\")\n",
    "    except Exception as e:\n",
    "        print(\"Some Error has occured\",e)\n",
    "        k=inputNum(\"Do you wish to continue if yes than enter 0 and for exit enter 1\")\n",
    "        if k==0:\n",
    "            mergeDict(dict1,dict2)\n",
    "        else:\n",
    "            print(\"Wish you a great day ahead\")\n",
    "        \n",
    "    "
   ]
  },
  {
   "cell_type": "code",
   "execution_count": 33,
   "metadata": {},
   "outputs": [
    {
     "name": "stdout",
     "output_type": "stream",
     "text": [
      "Here is Our Merged Dict: {'a': 1, 'b': 2, 'c': 1, 'd': 4}\n"
     ]
    }
   ],
   "source": [
    "mergeDict({'a':1,'b':2},{'c':1,'d':4})"
   ]
  },
  {
   "cell_type": "markdown",
   "metadata": {},
   "source": [
    "4. Write a Python program to convert key-values list to flat dictionary?"
   ]
  },
  {
   "cell_type": "code",
   "execution_count": 45,
   "metadata": {},
   "outputs": [],
   "source": [
    "def flatDict(list_of_key,list_of_value):\n",
    "    try:\n",
    "        dictionary={k:v for k,v in zip(list_of_key,list_of_value)}\n",
    "        print(f\"Here is our final Dictionary: {dictionary}\")\n",
    "    except Exception as e:\n",
    "        print(e)\n",
    "    \n",
    "    "
   ]
  },
  {
   "cell_type": "code",
   "execution_count": 46,
   "metadata": {},
   "outputs": [
    {
     "name": "stdout",
     "output_type": "stream",
     "text": [
      "Here is our final Dictionary: {'a': 1, 'b': 2, 'c': 3, 'd': 4, 'e': 5}\n"
     ]
    }
   ],
   "source": [
    "keys = ['a','b','c','d','e']\n",
    "values = [1,2,3,4,5]  \n",
    "flatDict(keys,values)"
   ]
  },
  {
   "cell_type": "markdown",
   "metadata": {},
   "source": [
    "5. Write a Python program to insertion at the beginning in OrderedDict?"
   ]
  },
  {
   "cell_type": "code",
   "execution_count": 1,
   "metadata": {},
   "outputs": [],
   "source": [
    "from collections import OrderedDict"
   ]
  },
  {
   "cell_type": "code",
   "execution_count": 8,
   "metadata": {},
   "outputs": [],
   "source": [
    "def ordereddic(key_to_be_updated,value_to_be_updated):\n",
    "    od=OrderedDict()\n",
    "    noOkeys=inputNum(\"Please input the number of keys you wanna put into your dict: \")\n",
    "    i=1\n",
    "    while(i<noOkeys+1):        \n",
    "        userInputkey=input(f\"Please input the {i} Key\")\n",
    "        if userInputkey in od:\n",
    "            print(\"This Key already exist in dict .Key Should be unique\\nPlease try again\")            \n",
    "            continue\n",
    "        else:\n",
    "            userInputvalue=inputNum(f\"Please enter your {i} value\")     \n",
    "            od[userInputkey]=userInputvalue\n",
    "            i+=1\n",
    "    \n",
    "    od.update({key_to_be_updated:value_to_be_updated})\n",
    "    od.move_to_end(key_to_be_updated,last=False)\n",
    "    print(f\"here is our resultent dictionary: {od}\")\n",
    "    "
   ]
  },
  {
   "cell_type": "code",
   "execution_count": 9,
   "metadata": {},
   "outputs": [
    {
     "name": "stdout",
     "output_type": "stream",
     "text": [
      "Please input the number of keys you wanna put into your dict: 4\n",
      "Please input the 1 Keychi\n",
      "Please enter your 1 value145\n",
      "Please input the 2 Keybhg\n",
      "Please enter your 2 value1524\n",
      "Please input the 3 Keygafst\n",
      "Please enter your 3 value2154\n",
      "Please input the 4 Keygach\n",
      "Please enter your 4 value1254\n",
      "here is our resultent dictionary: OrderedDict([('Somesh', 514), ('chi', 145), ('bhg', 1524), ('gafst', 2154), ('gach', 1254)])\n"
     ]
    }
   ],
   "source": [
    "ordereddic('Somesh',514)"
   ]
  },
  {
   "cell_type": "markdown",
   "metadata": {},
   "source": [
    "6. Write a Python program to check order of character in string using OrderedDict()?"
   ]
  },
  {
   "cell_type": "code",
   "execution_count": null,
   "metadata": {},
   "outputs": [],
   "source": [
    "#not able to understand the q."
   ]
  },
  {
   "cell_type": "markdown",
   "metadata": {},
   "source": [
    "7. Write a Python program to sort Python Dictionaries by Key or Value?"
   ]
  },
  {
   "cell_type": "code",
   "execution_count": 25,
   "metadata": {},
   "outputs": [],
   "source": [
    "def sorting(dict1):\n",
    "    #We'll keep all the keys into a list and sort them\n",
    "    listOfSort=[]\n",
    "    for i in dict1:\n",
    "        listOfSort.append(i)\n",
    "    listOfSort=sorted(listOfSort)\n",
    "        \n",
    "    # Now We're creating a OrderedDict where we're goinf to append items in Key sorted form \n",
    "    result=OrderedDict()\n",
    "    for i in listOfSort:\n",
    "        result[i]=dict1[i]\n",
    "    print(f'Here is our Sorted Dictionary: {result}')\n",
    "    \n",
    "    "
   ]
  },
  {
   "cell_type": "code",
   "execution_count": 26,
   "metadata": {},
   "outputs": [
    {
     "name": "stdout",
     "output_type": "stream",
     "text": [
      "Here is our Sorted Dictionary: OrderedDict([('Asha', 'Mishra'), ('Saurab', 'Mishra'), ('Somesh', 'Chitranshi'), ('vyom', 'Kant')])\n"
     ]
    }
   ],
   "source": [
    "sorting({\"Somesh\":\"Chitranshi\",\"vyom\":\"Kant\",\"Saurab\":\"Mishra\",\"Asha\":\"Mishra\"})"
   ]
  },
  {
   "cell_type": "code",
   "execution_count": null,
   "metadata": {},
   "outputs": [],
   "source": []
  }
 ],
 "metadata": {
  "kernelspec": {
   "display_name": "Python 3",
   "language": "python",
   "name": "python3"
  },
  "language_info": {
   "codemirror_mode": {
    "name": "ipython",
    "version": 3
   },
   "file_extension": ".py",
   "mimetype": "text/x-python",
   "name": "python",
   "nbconvert_exporter": "python",
   "pygments_lexer": "ipython3",
   "version": "3.8.5"
  }
 },
 "nbformat": 4,
 "nbformat_minor": 4
}
