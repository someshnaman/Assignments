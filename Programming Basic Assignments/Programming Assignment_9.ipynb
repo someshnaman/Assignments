{
 "cells": [
  {
   "cell_type": "markdown",
   "metadata": {},
   "source": [
    "1. Write a Python program to check if the given number is a Disarium Number?"
   ]
  },
  {
   "cell_type": "code",
   "execution_count": 27,
   "metadata": {},
   "outputs": [],
   "source": [
    "def disarium(n):\n",
    "    #we have to check whethar n is Disarium number or not\n",
    "    #Given a number “n”, find if it is Disarium or not. A number is called Disarium if sum \n",
    "    #of its digits powered with their respective positions is equal to the number itself.\n",
    "    k=[i for i in str(n)]    \n",
    "    l=0\n",
    "    m=1\n",
    "    for i in k:        \n",
    "        l=l+int(i)**m\n",
    "        m+=1        \n",
    "    return l==n #it'll return bool\n",
    "        \n",
    "        \n",
    "        \n",
    "        "
   ]
  },
  {
   "cell_type": "code",
   "execution_count": 30,
   "metadata": {},
   "outputs": [
    {
     "name": "stdout",
     "output_type": "stream",
     "text": [
      "['1', '3', '5']\n",
      "135\n"
     ]
    },
    {
     "data": {
      "text/plain": [
       "True"
      ]
     },
     "execution_count": 30,
     "metadata": {},
     "output_type": "execute_result"
    }
   ],
   "source": [
    "disarium(135)"
   ]
  },
  {
   "cell_type": "markdown",
   "metadata": {},
   "source": [
    "2. Write a Python program to print all disarium numbers between 1 to 100?"
   ]
  },
  {
   "cell_type": "code",
   "execution_count": 32,
   "metadata": {},
   "outputs": [],
   "source": [
    "def list_disarium(a,b):\n",
    "    listOfDisarium=[]\n",
    "    for i in range(a,b):        \n",
    "        k=[j for j in str(i)]    \n",
    "        l=0\n",
    "        m=1\n",
    "        for o in k:        \n",
    "            l=l+int(o)**m\n",
    "            m+=1        \n",
    "        if l==i:\n",
    "            listOfDisarium.append(i)\n",
    "    print(\"here is the list of disarium number into the given range: \",listOfDisarium)"
   ]
  },
  {
   "cell_type": "code",
   "execution_count": 35,
   "metadata": {},
   "outputs": [
    {
     "name": "stdout",
     "output_type": "stream",
     "text": [
      "here is the list of disarium number into the given range:  [1, 2, 3, 4, 5, 6, 7, 8, 9, 89]\n"
     ]
    }
   ],
   "source": [
    "list_disarium(1,100)"
   ]
  },
  {
   "cell_type": "markdown",
   "metadata": {},
   "source": [
    "3. Write a Python program to check if the given number is Happy Number?"
   ]
  },
  {
   "cell_type": "code",
   "execution_count": 21,
   "metadata": {},
   "outputs": [],
   "source": [
    "def happyNo(n):\n",
    "    listOfDigits=[i for i in str(n)]\n",
    "    excludingList=[]    \n",
    "    while True:\n",
    "        j=0\n",
    "        for i in listOfDigits:\n",
    "            j=j+int(i)**2        \n",
    "        if j==1:\n",
    "            print(f'{n} is a happy number')\n",
    "            break\n",
    "        elif j in excludingList:\n",
    "            print(f'{n} is not a happy number')\n",
    "            break\n",
    "        else:\n",
    "            excludingList.append(j)\n",
    "            listOfDigits=[i for i in str(j)]\n",
    "            continue\n",
    "                \n",
    "            \n",
    "        "
   ]
  },
  {
   "cell_type": "code",
   "execution_count": 22,
   "metadata": {},
   "outputs": [
    {
     "name": "stdout",
     "output_type": "stream",
     "text": [
      "144 is not a happy number\n"
     ]
    }
   ],
   "source": [
    "happyNo(144)"
   ]
  },
  {
   "cell_type": "markdown",
   "metadata": {},
   "source": [
    "4. Write a Python program to print all happy numbers between 1 and 100?"
   ]
  },
  {
   "cell_type": "code",
   "execution_count": 25,
   "metadata": {},
   "outputs": [],
   "source": [
    "def listHappyNo(a,b):\n",
    "    for n in range(a,b):\n",
    "        listOfDigits=[i for i in str(n)]\n",
    "        excludingList=[]   #this list will contain all the numbers which came after square of the digits \n",
    "        while True:\n",
    "            j=0\n",
    "            for i in listOfDigits:\n",
    "                j=j+int(i)**2        \n",
    "            if j==1:\n",
    "                print(f'{n} is a happy number')\n",
    "                break\n",
    "            elif j in excludingList: # here we're checking wheather the Squared number is in the list or not                 \n",
    "                print(f'{n} is not a happy number') # if the number comes in the exclude list then it can never be a Happy number as the number will be comming in loop\n",
    "                break\n",
    "            else:\n",
    "                excludingList.append(j)\n",
    "                listOfDigits=[i for i in str(j)]\n",
    "                continue"
   ]
  },
  {
   "cell_type": "code",
   "execution_count": 26,
   "metadata": {},
   "outputs": [
    {
     "name": "stdout",
     "output_type": "stream",
     "text": [
      "1 is a happy number\n",
      "2 is not a happy number\n",
      "3 is not a happy number\n",
      "4 is not a happy number\n",
      "5 is not a happy number\n",
      "6 is not a happy number\n",
      "7 is a happy number\n",
      "8 is not a happy number\n",
      "9 is not a happy number\n",
      "10 is a happy number\n",
      "11 is not a happy number\n",
      "12 is not a happy number\n",
      "13 is a happy number\n",
      "14 is not a happy number\n",
      "15 is not a happy number\n",
      "16 is not a happy number\n",
      "17 is not a happy number\n",
      "18 is not a happy number\n",
      "19 is a happy number\n",
      "20 is not a happy number\n",
      "21 is not a happy number\n",
      "22 is not a happy number\n",
      "23 is a happy number\n",
      "24 is not a happy number\n",
      "25 is not a happy number\n",
      "26 is not a happy number\n",
      "27 is not a happy number\n",
      "28 is a happy number\n",
      "29 is not a happy number\n",
      "30 is not a happy number\n",
      "31 is a happy number\n",
      "32 is a happy number\n",
      "33 is not a happy number\n",
      "34 is not a happy number\n",
      "35 is not a happy number\n",
      "36 is not a happy number\n",
      "37 is not a happy number\n",
      "38 is not a happy number\n",
      "39 is not a happy number\n",
      "40 is not a happy number\n",
      "41 is not a happy number\n",
      "42 is not a happy number\n",
      "43 is not a happy number\n",
      "44 is a happy number\n",
      "45 is not a happy number\n",
      "46 is not a happy number\n",
      "47 is not a happy number\n",
      "48 is not a happy number\n",
      "49 is a happy number\n",
      "50 is not a happy number\n",
      "51 is not a happy number\n",
      "52 is not a happy number\n",
      "53 is not a happy number\n",
      "54 is not a happy number\n",
      "55 is not a happy number\n",
      "56 is not a happy number\n",
      "57 is not a happy number\n",
      "58 is not a happy number\n",
      "59 is not a happy number\n",
      "60 is not a happy number\n",
      "61 is not a happy number\n",
      "62 is not a happy number\n",
      "63 is not a happy number\n",
      "64 is not a happy number\n",
      "65 is not a happy number\n",
      "66 is not a happy number\n",
      "67 is not a happy number\n",
      "68 is a happy number\n",
      "69 is not a happy number\n",
      "70 is a happy number\n",
      "71 is not a happy number\n",
      "72 is not a happy number\n",
      "73 is not a happy number\n",
      "74 is not a happy number\n",
      "75 is not a happy number\n",
      "76 is not a happy number\n",
      "77 is not a happy number\n",
      "78 is not a happy number\n",
      "79 is a happy number\n",
      "80 is not a happy number\n",
      "81 is not a happy number\n",
      "82 is a happy number\n",
      "83 is not a happy number\n",
      "84 is not a happy number\n",
      "85 is not a happy number\n",
      "86 is a happy number\n",
      "87 is not a happy number\n",
      "88 is not a happy number\n",
      "89 is not a happy number\n",
      "90 is not a happy number\n",
      "91 is a happy number\n",
      "92 is not a happy number\n",
      "93 is not a happy number\n",
      "94 is a happy number\n",
      "95 is not a happy number\n",
      "96 is not a happy number\n",
      "97 is a happy number\n",
      "98 is not a happy number\n",
      "99 is not a happy number\n"
     ]
    }
   ],
   "source": [
    "listHappyNo(1,100)"
   ]
  },
  {
   "cell_type": "markdown",
   "metadata": {},
   "source": [
    "5. Write a Python program to determine whether the given number is a Harshad Number?"
   ]
  },
  {
   "cell_type": "code",
   "execution_count": 13,
   "metadata": {},
   "outputs": [],
   "source": [
    "def harshadNo(n):    \n",
    "    listOfDigits=[i for i in str(n)]\n",
    "    a=True\n",
    "    \n",
    "    while a:\n",
    "        l=0\n",
    "        for i in listOfDigits:\n",
    "            l=l+int(i)\n",
    "        \n",
    "        if len(str(l))==1:            \n",
    "            if n%l==0:                \n",
    "                print(f\"{n} is a Harshan number\")\n",
    "                break\n",
    "            else:                \n",
    "                print(f'{n} is not a Harshad number')\n",
    "                break\n",
    "            \n",
    "        else:\n",
    "            listOfDigits=[i for i in str(l)]\n",
    "            continue\n",
    "                      \n",
    "            \n",
    "                      \n",
    "                      \n",
    "        \n",
    "    "
   ]
  },
  {
   "cell_type": "code",
   "execution_count": 14,
   "metadata": {},
   "outputs": [
    {
     "name": "stdout",
     "output_type": "stream",
     "text": [
      "353 is not a Harshad number\n"
     ]
    }
   ],
   "source": [
    "harshadNo(353)"
   ]
  },
  {
   "cell_type": "markdown",
   "metadata": {},
   "source": [
    "6. Write a Python program to print all pronic numbers between 1 and 100?"
   ]
  },
  {
   "cell_type": "code",
   "execution_count": 33,
   "metadata": {},
   "outputs": [],
   "source": [
    "def pronicNo():\n",
    "    #Pronic number is a number which is the product of two consecutive integers\n",
    "    # that is, a number n is a product of x and (x+1).\n",
    "    #thne we can say n is a pronic number\n",
    "    \n",
    "    for n in range(1,100):\n",
    "        for i in range(1,n):\n",
    "            if n==(i*(i+1)): # whenever any consicutive value of i will be equal to our condition  will be statisfied\n",
    "                print(f'{n} is a Pronic number')\n",
    "                break\n",
    "            \n",
    "                      \n",
    "        "
   ]
  },
  {
   "cell_type": "code",
   "execution_count": 34,
   "metadata": {},
   "outputs": [
    {
     "name": "stdout",
     "output_type": "stream",
     "text": [
      "2 is a Pronic number\n",
      "6 is a Pronic number\n",
      "12 is a Pronic number\n",
      "20 is a Pronic number\n",
      "30 is a Pronic number\n",
      "42 is a Pronic number\n",
      "56 is a Pronic number\n",
      "72 is a Pronic number\n",
      "90 is a Pronic number\n"
     ]
    }
   ],
   "source": [
    "pronicNo()"
   ]
  },
  {
   "cell_type": "code",
   "execution_count": 37,
   "metadata": {},
   "outputs": [],
   "source": [
    "from math import *"
   ]
  },
  {
   "cell_type": "code",
   "execution_count": 38,
   "metadata": {},
   "outputs": [
    {
     "ename": "NameError",
     "evalue": "name 'math' is not defined",
     "output_type": "error",
     "traceback": [
      "\u001b[1;31m---------------------------------------------------------------------------\u001b[0m",
      "\u001b[1;31mNameError\u001b[0m                                 Traceback (most recent call last)",
      "\u001b[1;32m<ipython-input-38-dba301b0095e>\u001b[0m in \u001b[0;36m<module>\u001b[1;34m\u001b[0m\n\u001b[1;32m----> 1\u001b[1;33m \u001b[0mdir\u001b[0m\u001b[1;33m(\u001b[0m\u001b[0mmath\u001b[0m\u001b[1;33m)\u001b[0m\u001b[1;33m\u001b[0m\u001b[1;33m\u001b[0m\u001b[0m\n\u001b[0m",
      "\u001b[1;31mNameError\u001b[0m: name 'math' is not defined"
     ]
    }
   ],
   "source": [
    "dir(math)"
   ]
  },
  {
   "cell_type": "code",
   "execution_count": null,
   "metadata": {},
   "outputs": [],
   "source": []
  }
 ],
 "metadata": {
  "kernelspec": {
   "display_name": "Python 3",
   "language": "python",
   "name": "python3"
  },
  "language_info": {
   "codemirror_mode": {
    "name": "ipython",
    "version": 3
   },
   "file_extension": ".py",
   "mimetype": "text/x-python",
   "name": "python",
   "nbconvert_exporter": "python",
   "pygments_lexer": "ipython3",
   "version": "3.8.5"
  }
 },
 "nbformat": 4,
 "nbformat_minor": 4
}
