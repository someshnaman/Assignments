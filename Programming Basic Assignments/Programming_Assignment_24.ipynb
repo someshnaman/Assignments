{
  "nbformat": 4,
  "nbformat_minor": 0,
  "metadata": {
    "colab": {
      "name": "Programming Assignment_24.ipynb",
      "provenance": []
    },
    "kernelspec": {
      "name": "python3",
      "display_name": "Python 3"
    },
    "language_info": {
      "name": "python"
    }
  },
  "cells": [
    {
      "cell_type": "markdown",
      "metadata": {
        "id": "IMWzm3OBsiNh"
      },
      "source": [
        "Question1\n",
        "\n",
        "Create a function that takes an integer and returns a list from 1 to the given number, where:\n",
        "\n",
        "1. If the number can be divided evenly by 4, amplify it by 10 (i.e. return 10 times the\n",
        "number).\n",
        "\n",
        "2. If the number cannot be divided evenly by 4, simply return the number.\n",
        "Examples\n",
        "\n",
        "amplify(4) ➞ [1, 2, 3, 40]\n",
        "\n",
        "amplify(3) ➞ [1, 2, 3]\n",
        "\n",
        "amplify(25) ➞ [1, 2, 3, 40, 5, 6, 7, 80, 9, 10, 11, 120, 13, 14, 15, 160,\n",
        "17, 18, 19, 200, 21, 22, 23, 240, 25]\n",
        "\n",
        "Notes\n",
        "\n",
        " The given integer will always be equal to or greater than 1.\n",
        "\n",
        " Include the number (see example above).\n",
        "\n",
        " To perform this problem with its intended purpose, try doing it with list\n",
        "comprehensions. If that&#39;s too difficult, just solve the challenge any way you can."
      ]
    },
    {
      "cell_type": "code",
      "metadata": {
        "id": "nmGGHP-irlWv"
      },
      "source": [
        "def amplify(num):\n",
        "  if num<=1:\n",
        "    print(\"Please enter number grator than 1\")\n",
        "  elif num%4==0:\n",
        "    result=[i*10 for i in range(1,num+1)]\n",
        "    print(result)\n",
        "  else:\n",
        "    result=[i for i in range(1,num+1)]\n",
        "    print(result)\n",
        "\n",
        "\n"
      ],
      "execution_count": 2,
      "outputs": []
    },
    {
      "cell_type": "code",
      "metadata": {
        "colab": {
          "base_uri": "https://localhost:8080/"
        },
        "id": "gqPUgP20sKyq",
        "outputId": "14c416e9-c714-41b7-ca66-1f1d4e5da059"
      },
      "source": [
        "amplify(25)"
      ],
      "execution_count": 3,
      "outputs": [
        {
          "output_type": "stream",
          "text": [
            "[1, 2, 3, 4, 5, 6, 7, 8, 9, 10, 11, 12, 13, 14, 15, 16, 17, 18, 19, 20, 21, 22, 23, 24, 25]\n"
          ],
          "name": "stdout"
        }
      ]
    },
    {
      "cell_type": "code",
      "metadata": {
        "colab": {
          "base_uri": "https://localhost:8080/"
        },
        "id": "IJm4EuFWsNQx",
        "outputId": "9099b65d-83b3-4b00-d38d-b395ecbb4dcd"
      },
      "source": [
        "amplify(3)"
      ],
      "execution_count": 4,
      "outputs": [
        {
          "output_type": "stream",
          "text": [
            "[1, 2, 3]\n"
          ],
          "name": "stdout"
        }
      ]
    },
    {
      "cell_type": "markdown",
      "metadata": {
        "id": "_HnHI0l7stli"
      },
      "source": [
        "Question2\n",
        "\n",
        "Create a function that takes a list of numbers and return the number that&#39;s unique.\n",
        "\n",
        "Examples\n",
        "\n",
        "unique([3, 3, 3, 7, 3, 3]) ➞ 7\n",
        "\n",
        "unique([0, 0, 0.77, 0, 0]) ➞ 0.77\n",
        "\n",
        "unique([0, 1, 1, 1, 1, 1, 1, 1]) ➞ 0\n",
        "\n",
        "Notes\n",
        "\n",
        "Test cases will always have exactly one unique number while all others are the same."
      ]
    },
    {
      "cell_type": "code",
      "metadata": {
        "id": "5fjoT-wosQld"
      },
      "source": [
        "def unique(lis):\n",
        "  for i in range(0,len(lis)):\n",
        "    mynum=lis[i]\n",
        "    if mynum not in lis[i+1:] and  mynum not in lis[:i]:\n",
        "      print(mynum)"
      ],
      "execution_count": 14,
      "outputs": []
    },
    {
      "cell_type": "code",
      "metadata": {
        "colab": {
          "base_uri": "https://localhost:8080/"
        },
        "id": "2ystPrVUtReC",
        "outputId": "bee05083-e0c5-4053-b085-cfa7a2b38f98"
      },
      "source": [
        "unique([3, 3, 3, 7, 3, 3])"
      ],
      "execution_count": 15,
      "outputs": [
        {
          "output_type": "stream",
          "text": [
            "7\n"
          ],
          "name": "stdout"
        }
      ]
    },
    {
      "cell_type": "code",
      "metadata": {
        "colab": {
          "base_uri": "https://localhost:8080/"
        },
        "id": "Y0FEU5E4tT1q",
        "outputId": "555ee7bc-1972-4046-d957-a362f5976411"
      },
      "source": [
        "unique([0, 1, 1, 1, 1, 1, 1, 1])"
      ],
      "execution_count": 16,
      "outputs": [
        {
          "output_type": "stream",
          "text": [
            "0\n"
          ],
          "name": "stdout"
        }
      ]
    },
    {
      "cell_type": "code",
      "metadata": {
        "colab": {
          "base_uri": "https://localhost:8080/"
        },
        "id": "Fib90nWuwoMZ",
        "outputId": "bc3f429d-121a-40b9-d775-6f2d7bce5d25"
      },
      "source": [
        "unique([1,2,3,1,2,4,5,3])"
      ],
      "execution_count": 17,
      "outputs": [
        {
          "output_type": "stream",
          "text": [
            "4\n",
            "5\n"
          ],
          "name": "stdout"
        }
      ]
    },
    {
      "cell_type": "markdown",
      "metadata": {
        "id": "HMADJrzY0Z2_"
      },
      "source": [
        "Question3\n",
        "\n",
        "Your task is to create a Circle constructor that creates a circle with a radius provided by anargument.\n",
        "\n",
        "The circles constructed must have two getters getArea() (PIr^2) and getPerimeter() (2PI*r) which give both respective areas and perimeter (circumference).\n",
        "\n",
        "For help with this class, I have provided you with a Rectangle constructor which you can use\n",
        "\n",
        "as a base example.\n",
        "\n",
        "Examples\n",
        "\n",
        "circy = Circle(11)\n",
        "\n",
        "circy.getArea()\n",
        "\n",
        "# Should return 380.132711084365\n",
        "\n",
        "circy = Circle(4.44)\n",
        "\n",
        "circy.getPerimeter()\n",
        "\n",
        "# Should return 27.897342763877365\n",
        "\n",
        "Notes\n",
        "\n",
        "Round results up to the nearest integer."
      ]
    },
    {
      "cell_type": "code",
      "metadata": {
        "id": "-XDOK_lCzVhc"
      },
      "source": [
        "import math\n",
        "class Circle():\n",
        "  def __init__(self,radius):\n",
        "    self.__radius=radius\n",
        "  def getArea(self):\n",
        "    result=math.pi*(self.__radius)**2\n",
        "    print(round(result,2))\n",
        "  def getPerimeter(self):\n",
        "    result=2*math.pi*self.__radius\n",
        "    print(round(result,2))"
      ],
      "execution_count": 25,
      "outputs": []
    },
    {
      "cell_type": "code",
      "metadata": {
        "id": "6cOPhX5h2s5m"
      },
      "source": [
        "circy = Circle(4.44)"
      ],
      "execution_count": 26,
      "outputs": []
    },
    {
      "cell_type": "code",
      "metadata": {
        "colab": {
          "base_uri": "https://localhost:8080/"
        },
        "id": "fld-SMIS2xcA",
        "outputId": "5edba271-39db-426e-d61e-ab3dfd71f4ff"
      },
      "source": [
        "circy.getPerimeter()"
      ],
      "execution_count": 27,
      "outputs": [
        {
          "output_type": "stream",
          "text": [
            "27.9\n"
          ],
          "name": "stdout"
        }
      ]
    },
    {
      "cell_type": "markdown",
      "metadata": {
        "id": "oWH8wH653LA7"
      },
      "source": [
        "Question4\n",
        "\n",
        "Create a function that takes a list of strings and return a list, sorted from shortest to longest.\n",
        "\n",
        "Examples\n",
        "\n",
        "sort_by_length([&quot;Google&quot;, &quot;Apple&quot;, &quot;Microsoft&quot;])\n",
        "\n",
        "➞ [&quot;Apple&quot;, &quot;Google&quot;, &quot;Microsoft&quot;]\n",
        "\n",
        "sort_by_length([&quot;Leonardo&quot;, &quot;Michelangelo&quot;, &quot;Raphael&quot;, &quot;Donatello&quot;])\n",
        "\n",
        "➞ [&quot;Raphael&quot;, &quot;Leonardo&quot;, &quot;Donatello&quot;, &quot;Michelangelo&quot;]\n",
        "\n",
        "sort_by_length([&quot;Turing&quot;, &quot;Einstein&quot;, &quot;Jung&quot;])\n",
        "\n",
        "➞ [&quot;Jung&quot;, &quot;Turing&quot;, &quot;Einstein&quot;]\n",
        "\n",
        "Notes\n",
        "\n",
        "All test cases contain lists with strings of different lengths, so you won&#39;t have to deal with\n",
        "multiple strings of the same length."
      ]
    },
    {
      "cell_type": "code",
      "metadata": {
        "id": "q1lI8N9I2znt"
      },
      "source": [
        "def sort_by_length(lis):\n",
        "  mydic={}\n",
        "  for i in lis:\n",
        "    mydic[i]=len(i)\n",
        "      \n",
        "  result=[k for k, v in sorted(mydic.items(), key=lambda item: item[1])]\n",
        "  print(result)"
      ],
      "execution_count": 12,
      "outputs": []
    },
    {
      "cell_type": "code",
      "metadata": {
        "colab": {
          "base_uri": "https://localhost:8080/"
        },
        "id": "ugfySakB62__",
        "outputId": "ebb058f5-87aa-42b1-b022-309cd6d902ee"
      },
      "source": [
        "sort_by_length([\"Leonardo\", \"Michelangelo\", \"Raphael\", \"Donatello\"])"
      ],
      "execution_count": 13,
      "outputs": [
        {
          "output_type": "stream",
          "text": [
            "['Raphael', 'Leonardo', 'Donatello', 'Michelangelo']\n"
          ],
          "name": "stdout"
        }
      ]
    },
    {
      "cell_type": "code",
      "metadata": {
        "colab": {
          "base_uri": "https://localhost:8080/"
        },
        "id": "t0LH8_mX64-j",
        "outputId": "fd95006c-e9ae-49b1-8fec-e68c113b9070"
      },
      "source": [
        "sort_by_length([\"Google\", \"Apple\", \"Microsoft\"])"
      ],
      "execution_count": 9,
      "outputs": [
        {
          "output_type": "stream",
          "text": [
            "['Apple', 'Google', 'Microsoft']\n"
          ],
          "name": "stdout"
        }
      ]
    },
    {
      "cell_type": "code",
      "metadata": {
        "colab": {
          "base_uri": "https://localhost:8080/"
        },
        "id": "J-2au9767u9m",
        "outputId": "4e66b697-2b3e-4f34-8c55-601f031cfcbc"
      },
      "source": [
        "my={'Leonardo': 8, 'Michelangelo': 12, 'Raphael': 7, 'Donatello': 9}\n",
        "sorted(my.items(), key=lambda item: item[1])"
      ],
      "execution_count": 14,
      "outputs": [
        {
          "output_type": "execute_result",
          "data": {
            "text/plain": [
              "[('Raphael', 7), ('Leonardo', 8), ('Donatello', 9), ('Michelangelo', 12)]"
            ]
          },
          "metadata": {
            "tags": []
          },
          "execution_count": 14
        }
      ]
    },
    {
      "cell_type": "markdown",
      "metadata": {
        "id": "MbXmHWf_0Jht"
      },
      "source": [
        "Question5\n",
        "\n",
        "Create a function that validates whether three given integers form a Pythagorean triplet. The sum of the squares of the two smallest integers must equal the square of the largest number to be validated.\n",
        "\n",
        "Examples\n",
        "\n",
        "is_triplet(3, 4, 5) ➞ True\n",
        "\n",
        "# 3² + 4² = 25\n",
        "\n",
        "# 5² = 25\n",
        "\n",
        "is_triplet(13, 5, 12) ➞ True\n",
        "\n",
        "# 5² + 12² = 169\n",
        "\n",
        "# 13² = 169\n",
        "\n",
        "is_triplet(1, 2, 3) ➞ False\n",
        "\n",
        "# 1² + 2² = 5\n",
        "\n",
        "# 3² = 9\n",
        "\n",
        "Notes\n",
        "\n",
        "Numbers may not be given in a sorted order."
      ]
    },
    {
      "cell_type": "code",
      "metadata": {
        "id": "1DPR_THkzKtr"
      },
      "source": [
        "def is_triplet(a,b,c):\n",
        "  mylis=[a,b,c]  \n",
        "  mylis=sorted(mylis)\n",
        "  return ((mylis[0])**2 + mylis[1]**2)==(mylis[2]**2)"
      ],
      "execution_count": 32,
      "outputs": []
    },
    {
      "cell_type": "code",
      "metadata": {
        "colab": {
          "base_uri": "https://localhost:8080/"
        },
        "id": "YZCKiEVx1V9-",
        "outputId": "35e8fef9-5c48-4a3b-e5ee-38a4cdfcf47a"
      },
      "source": [
        "is_triplet(3, 4, 5)"
      ],
      "execution_count": 33,
      "outputs": [
        {
          "output_type": "execute_result",
          "data": {
            "text/plain": [
              "True"
            ]
          },
          "metadata": {
            "tags": []
          },
          "execution_count": 33
        }
      ]
    },
    {
      "cell_type": "code",
      "metadata": {
        "colab": {
          "base_uri": "https://localhost:8080/"
        },
        "id": "gf80AzpN2ABm",
        "outputId": "f34d110d-56b3-4c45-db86-477721953c74"
      },
      "source": [
        "is_triplet(1, 2, 3)"
      ],
      "execution_count": 34,
      "outputs": [
        {
          "output_type": "execute_result",
          "data": {
            "text/plain": [
              "False"
            ]
          },
          "metadata": {
            "tags": []
          },
          "execution_count": 34
        }
      ]
    },
    {
      "cell_type": "code",
      "metadata": {
        "id": "AHfZ7p4I20eY"
      },
      "source": [
        ""
      ],
      "execution_count": null,
      "outputs": []
    }
  ]
}