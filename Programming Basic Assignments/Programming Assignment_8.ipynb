{
 "cells": [
  {
   "cell_type": "markdown",
   "metadata": {},
   "source": [
    "1. Write a Python Program to Add Two Matrices?"
   ]
  },
  {
   "cell_type": "code",
   "execution_count": 42,
   "metadata": {},
   "outputs": [],
   "source": [
    "from numpy import matrix\n",
    "def add_matrices():\n",
    "    m1=list(map(int,input(\"Please enter numbers for 1st matrix: \").strip()))\n",
    "    m2=list(map(int,input(\"Please enter numbers for 2nd matrix: \").strip()))\n",
    "    print(m1,m2)\n",
    "    new_m1=matrix(m1)\n",
    "    new_m2=matrix(m2)\n",
    "    l=new_m1 + new_m2 \n",
    "    return  l"
   ]
  },
  {
   "cell_type": "code",
   "execution_count": 43,
   "metadata": {},
   "outputs": [
    {
     "name": "stdout",
     "output_type": "stream",
     "text": [
      "Please enter numbers for 1st matrix: 154\n",
      "Please enter numbers for 2nd matrix: 254\n",
      "[1, 5, 4] [2, 5, 4]\n"
     ]
    },
    {
     "data": {
      "text/plain": [
       "matrix([[ 3, 10,  8]])"
      ]
     },
     "execution_count": 43,
     "metadata": {},
     "output_type": "execute_result"
    }
   ],
   "source": [
    "add_matrices()"
   ]
  },
  {
   "cell_type": "markdown",
   "metadata": {},
   "source": [
    "2. Write a Python Program to Multiply Two Matrices?"
   ]
  },
  {
   "cell_type": "code",
   "execution_count": 5,
   "metadata": {},
   "outputs": [],
   "source": [
    "from numpy import *\n",
    "'''\n",
    "Matrix multiplication is some special kind of ultipication where we need to take care few things for multipication.\n",
    "for ex. if there are two matrices with mxn and jxk dimentions respectively than their multiplication will only be possible\n",
    "if m=j. the resultant matrix would be mxk.\n",
    "'''\n",
    "def mul_matrices():\n",
    "    \n",
    "    try:        \n",
    "        m1=list(map(int,input(\"Please enter numbers for 1st matrix: \").strip()))\n",
    "        m2=list(map(int,input(\"Please enter numbers for 2nt matrix: \").strip()))\n",
    "        R1=int(input(\"please enter the number in which you want the row of 1st matrix: \"))\n",
    "        C1=int(input(\"please enter the number in which you want the coloumn of 1nt matrix: \"))\n",
    "        R2=int(input(\"please enter the number in which you want the row of 2nd matrix: \"))\n",
    "        C2=int(input(\"please enter the number in which you want the coloumn of 2nd matrix: \"))\n",
    "        k=array(m1).reshape(R1,C1)    \n",
    "        l=array(m2).reshape(R2,C2)\n",
    "        return matrix(k)*matrix(l)\n",
    "    except Exception as e:\n",
    "        print(e)\n",
    "        print(\"this multiplication is not possible please try again\")\n",
    "        mul_matrices()\n",
    "    \n",
    "    \n",
    "    "
   ]
  },
  {
   "cell_type": "code",
   "execution_count": 4,
   "metadata": {},
   "outputs": [
    {
     "name": "stdout",
     "output_type": "stream",
     "text": [
      "Please enter numbers for 1st matrix: 245125415321\n",
      "Please enter numbers for 2nt matrix: 548456124578\n",
      "please enter the number in which you want the row of 1st matrix: 3\n",
      "please enter the number in which you want the coloumn of 1nt matrix: 4\n",
      "please enter the number in which you want the row of 2nd matrix: 4\n",
      "please enter the number in which you want the coloumn of 2nd matrix: 3\n"
     ]
    },
    {
     "data": {
      "text/plain": [
       "matrix([[36, 45, 68],\n",
       "        [39, 48, 70],\n",
       "        [44, 46, 74]])"
      ]
     },
     "execution_count": 4,
     "metadata": {},
     "output_type": "execute_result"
    }
   ],
   "source": [
    "mul_matrices()"
   ]
  },
  {
   "cell_type": "markdown",
   "metadata": {},
   "source": [
    "3. Write a Python Program to Transpose a Matrix?"
   ]
  },
  {
   "cell_type": "code",
   "execution_count": 10,
   "metadata": {},
   "outputs": [],
   "source": [
    "def transpose_matrix():\n",
    "    m1=list(map(int,input(\"Please enter numbers which you want in matrix: \").strip()))\n",
    "    R1=int(input(\"please enter the number row you want in matrix: \"))\n",
    "    C1=int(input(\"please enter the number column you want in matrix: \"))\n",
    "    created_matrix=matrix(array(m1).reshape(R1,C1))\n",
    "    return created_matrix.transpose()\n",
    "    \n",
    "    "
   ]
  },
  {
   "cell_type": "code",
   "execution_count": 11,
   "metadata": {},
   "outputs": [
    {
     "name": "stdout",
     "output_type": "stream",
     "text": [
      "Please enter numbers which you want in matrix: 123456789\n",
      "please enter the number row you want in matrix: 3\n",
      "please enter the number column you want in matrix: 3\n"
     ]
    },
    {
     "data": {
      "text/plain": [
       "matrix([[1, 4, 7],\n",
       "        [2, 5, 8],\n",
       "        [3, 6, 9]])"
      ]
     },
     "execution_count": 11,
     "metadata": {},
     "output_type": "execute_result"
    }
   ],
   "source": [
    "transpose_matrix()"
   ]
  },
  {
   "cell_type": "markdown",
   "metadata": {},
   "source": [
    "4. Write a Python Program to Sort Words in Alphabetic Order?"
   ]
  },
  {
   "cell_type": "code",
   "execution_count": 18,
   "metadata": {},
   "outputs": [],
   "source": [
    "def sortingWords(number_of_words):\n",
    "    user_input=[input(f\"Please input the {i} word which you want to sort \") for i in range(1,number_of_words+1)]\n",
    "    return sorted(user_input)"
   ]
  },
  {
   "cell_type": "code",
   "execution_count": 20,
   "metadata": {},
   "outputs": [
    {
     "name": "stdout",
     "output_type": "stream",
     "text": [
      "Please input the 1 word which you want to sort Somesh\n",
      "Please input the 2 word which you want to sort Raj\n",
      "Please input the 3 word which you want to sort Vyom\n"
     ]
    },
    {
     "data": {
      "text/plain": [
       "['Raj', 'Somesh', 'Vyom']"
      ]
     },
     "execution_count": 20,
     "metadata": {},
     "output_type": "execute_result"
    }
   ],
   "source": [
    "sortingWords(3)\n"
   ]
  },
  {
   "cell_type": "markdown",
   "metadata": {},
   "source": [
    "5. Write a Python Program to Remove Punctuation From a String?"
   ]
  },
  {
   "cell_type": "code",
   "execution_count": 37,
   "metadata": {},
   "outputs": [
    {
     "name": "stdout",
     "output_type": "stream",
     "text": [
      "Please enter your string here:  Hey! Ya you, Comon: $20 is there\n",
      "Final Output is:   Hey Ya you Comon 20 is there\n"
     ]
    }
   ],
   "source": [
    "import string\n",
    "userInput=input(\"Please enter your string here: \")\n",
    "for i in userInput:\n",
    "    if i in string.punctuation:        \n",
    "        userInput=userInput.replace(i,'')        \n",
    "        \n",
    "print('Final Output is: ',userInput)"
   ]
  },
  {
   "cell_type": "code",
   "execution_count": 25,
   "metadata": {},
   "outputs": [
    {
     "data": {
      "text/plain": [
       "'!\"#$%&\\'()*+,-./:;<=>?@[\\\\]^_`{|}~'"
      ]
     },
     "execution_count": 25,
     "metadata": {},
     "output_type": "execute_result"
    }
   ],
   "source": [
    "string.punctuation"
   ]
  },
  {
   "cell_type": "code",
   "execution_count": null,
   "metadata": {},
   "outputs": [],
   "source": []
  }
 ],
 "metadata": {
  "kernelspec": {
   "display_name": "Python 3",
   "language": "python",
   "name": "python3"
  },
  "language_info": {
   "codemirror_mode": {
    "name": "ipython",
    "version": 3
   },
   "file_extension": ".py",
   "mimetype": "text/x-python",
   "name": "python",
   "nbconvert_exporter": "python",
   "pygments_lexer": "ipython3",
   "version": "3.8.5"
  }
 },
 "nbformat": 4,
 "nbformat_minor": 4
}
