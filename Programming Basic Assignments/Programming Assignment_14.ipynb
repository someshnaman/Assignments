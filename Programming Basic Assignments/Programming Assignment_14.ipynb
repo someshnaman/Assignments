{
 "cells": [
  {
   "cell_type": "markdown",
   "metadata": {},
   "source": [
    "Question 1:\n",
    "Define a class with a generator which can iterate the numbers, which are divisible by\n",
    "7, between a given range 0 and n."
   ]
  },
  {
   "cell_type": "code",
   "execution_count": 7,
   "metadata": {},
   "outputs": [],
   "source": [
    "import logging as lg\n",
    "class Gen:\n",
    "    lg.basicConfig(filename=\"logging.log\",level=lg.INFO,format=\"%(asctime)s-%(message)s\")\n",
    "    def __init__(self,a,b):\n",
    "        self.__a=a\n",
    "        self.__b=b\n",
    "    \n",
    "        \n",
    "    def logging(self,log):\n",
    "        lg.info(log)\n",
    "        \n",
    "        \n",
    "    try:\n",
    "        def divBy7(self):\n",
    "            for i in range(self.__a,self.__b):\n",
    "                if i%7==0:\n",
    "                    self.logging(f\"{i} is divisible by 7\")\n",
    "                    x=yield f\"{i} is divisible by 7\"\n",
    "        \n",
    "         \n",
    "    except Exception as e:\n",
    "        print(e)\n",
    "        \n",
    "        "
   ]
  },
  {
   "cell_type": "code",
   "execution_count": 8,
   "metadata": {},
   "outputs": [
    {
     "name": "stdout",
     "output_type": "stream",
     "text": [
      "0 is divisible by 7\n",
      "7 is divisible by 7\n",
      "14 is divisible by 7\n",
      "21 is divisible by 7\n",
      "28 is divisible by 7\n",
      "35 is divisible by 7\n",
      "42 is divisible by 7\n",
      "49 is divisible by 7\n",
      "56 is divisible by 7\n",
      "63 is divisible by 7\n",
      "70 is divisible by 7\n",
      "77 is divisible by 7\n",
      "84 is divisible by 7\n",
      "91 is divisible by 7\n",
      "98 is divisible by 7\n",
      "105 is divisible by 7\n",
      "112 is divisible by 7\n",
      "119 is divisible by 7\n",
      "126 is divisible by 7\n",
      "133 is divisible by 7\n",
      "140 is divisible by 7\n",
      "147 is divisible by 7\n",
      "154 is divisible by 7\n",
      "161 is divisible by 7\n",
      "168 is divisible by 7\n",
      "175 is divisible by 7\n",
      "182 is divisible by 7\n",
      "189 is divisible by 7\n",
      "196 is divisible by 7\n",
      "203 is divisible by 7\n",
      "210 is divisible by 7\n",
      "217 is divisible by 7\n",
      "224 is divisible by 7\n",
      "231 is divisible by 7\n",
      "238 is divisible by 7\n",
      "245 is divisible by 7\n",
      "252 is divisible by 7\n",
      "259 is divisible by 7\n",
      "266 is divisible by 7\n",
      "273 is divisible by 7\n",
      "280 is divisible by 7\n",
      "287 is divisible by 7\n",
      "294 is divisible by 7\n",
      "301 is divisible by 7\n",
      "308 is divisible by 7\n",
      "315 is divisible by 7\n",
      "322 is divisible by 7\n",
      "329 is divisible by 7\n",
      "336 is divisible by 7\n",
      "343 is divisible by 7\n",
      "350 is divisible by 7\n",
      "357 is divisible by 7\n",
      "364 is divisible by 7\n",
      "371 is divisible by 7\n",
      "378 is divisible by 7\n",
      "385 is divisible by 7\n",
      "392 is divisible by 7\n",
      "399 is divisible by 7\n",
      "406 is divisible by 7\n",
      "413 is divisible by 7\n",
      "420 is divisible by 7\n",
      "427 is divisible by 7\n",
      "434 is divisible by 7\n",
      "441 is divisible by 7\n",
      "448 is divisible by 7\n",
      "455 is divisible by 7\n",
      "462 is divisible by 7\n",
      "469 is divisible by 7\n",
      "476 is divisible by 7\n",
      "483 is divisible by 7\n",
      "490 is divisible by 7\n",
      "497 is divisible by 7\n",
      "504 is divisible by 7\n",
      "511 is divisible by 7\n",
      "518 is divisible by 7\n",
      "525 is divisible by 7\n",
      "532 is divisible by 7\n",
      "539 is divisible by 7\n",
      "546 is divisible by 7\n",
      "553 is divisible by 7\n",
      "560 is divisible by 7\n",
      "567 is divisible by 7\n",
      "574 is divisible by 7\n",
      "581 is divisible by 7\n",
      "588 is divisible by 7\n",
      "595 is divisible by 7\n",
      "602 is divisible by 7\n",
      "609 is divisible by 7\n",
      "616 is divisible by 7\n",
      "623 is divisible by 7\n",
      "630 is divisible by 7\n",
      "637 is divisible by 7\n",
      "644 is divisible by 7\n",
      "651 is divisible by 7\n",
      "658 is divisible by 7\n",
      "665 is divisible by 7\n",
      "672 is divisible by 7\n",
      "679 is divisible by 7\n",
      "686 is divisible by 7\n",
      "693 is divisible by 7\n",
      "700 is divisible by 7\n",
      "707 is divisible by 7\n",
      "714 is divisible by 7\n",
      "721 is divisible by 7\n",
      "728 is divisible by 7\n",
      "735 is divisible by 7\n",
      "742 is divisible by 7\n",
      "749 is divisible by 7\n",
      "756 is divisible by 7\n",
      "763 is divisible by 7\n",
      "770 is divisible by 7\n",
      "777 is divisible by 7\n",
      "784 is divisible by 7\n",
      "791 is divisible by 7\n",
      "798 is divisible by 7\n",
      "805 is divisible by 7\n",
      "812 is divisible by 7\n",
      "819 is divisible by 7\n",
      "826 is divisible by 7\n",
      "833 is divisible by 7\n",
      "840 is divisible by 7\n",
      "847 is divisible by 7\n",
      "854 is divisible by 7\n",
      "861 is divisible by 7\n",
      "868 is divisible by 7\n",
      "875 is divisible by 7\n",
      "882 is divisible by 7\n",
      "889 is divisible by 7\n",
      "896 is divisible by 7\n",
      "903 is divisible by 7\n",
      "910 is divisible by 7\n",
      "917 is divisible by 7\n",
      "924 is divisible by 7\n",
      "931 is divisible by 7\n",
      "938 is divisible by 7\n",
      "945 is divisible by 7\n",
      "952 is divisible by 7\n",
      "959 is divisible by 7\n",
      "966 is divisible by 7\n",
      "973 is divisible by 7\n",
      "980 is divisible by 7\n",
      "987 is divisible by 7\n",
      "994 is divisible by 7\n"
     ]
    }
   ],
   "source": [
    "x=Gen(0,1000)\n",
    "for i in x.divBy7():\n",
    "    print(i)\n"
   ]
  },
  {
   "cell_type": "markdown",
   "metadata": {},
   "source": [
    "Question 2:\n",
    "Write a program to compute the frequency of the words from the input. The output\n",
    "should output after sorting the key alphanumerically.\n",
    "Suppose the following input is supplied to the program:\n",
    "New to Python or choosing between Python 2 and Python 3? Read Python 2 or\n",
    "Python 3.\n",
    "Then, the output should be:\n",
    "2:2\n",
    "3.:1\n",
    "3?:1\n",
    "New:1\n",
    "Python:5\n",
    "Read:1\n",
    "and:1\n",
    "between:1\n",
    "choosing:1\n",
    "or:2\n",
    "to:1"
   ]
  },
  {
   "cell_type": "code",
   "execution_count": 22,
   "metadata": {},
   "outputs": [],
   "source": [
    "class Freq:\n",
    "    def countFreq(self):\n",
    "        user_input=(input(\"Please input your sentence:  \")).split()\n",
    "        user_input=sorted(user_input)\n",
    "        dict1={}\n",
    "        for i in user_input:\n",
    "            if i in dict1.keys():\n",
    "                dict1[i]+=1\n",
    "            else:\n",
    "                dict1[i]=1\n",
    "        print(f\"Here is our Sorted list of Sentences: {(dict1)}\")"
   ]
  },
  {
   "cell_type": "code",
   "execution_count": 23,
   "metadata": {},
   "outputs": [
    {
     "name": "stdout",
     "output_type": "stream",
     "text": [
      "Please input your sentence:  New to Python or choosing between Python 2 and Python 3? Read Python 2 or Python 3.\n",
      "Here is our Sorted list of Sentences: {'2': 2, '3.': 1, '3?': 1, 'New': 1, 'Python': 5, 'Read': 1, 'and': 1, 'between': 1, 'choosing': 1, 'or': 2, 'to': 1}\n"
     ]
    }
   ],
   "source": [
    "F=Freq()\n",
    "F.countFreq()"
   ]
  },
  {
   "cell_type": "markdown",
   "metadata": {},
   "source": [
    "Question 3:\n",
    "\n",
    "Define a class Person and its two child classes: Male and Female. All classes have a\n",
    "method &quot;getGender&quot; which can print &quot;Male&quot; for Male class and &quot;Female&quot; for Female\n",
    "class."
   ]
  },
  {
   "cell_type": "code",
   "execution_count": 24,
   "metadata": {},
   "outputs": [
    {
     "name": "stdout",
     "output_type": "stream",
     "text": [
      "I'm somesh and I'm male\n"
     ]
    }
   ],
   "source": [
    "class person:\n",
    "    def __init__(self,name,gender):\n",
    "        self.__gender=gender\n",
    "        self.__name=name\n",
    "    def getGender(self):\n",
    "        print(f'I\\'m {self.__name} and I\\'m {self.__gender}')\n",
    "    \n",
    "class male(person):\n",
    "    pass\n",
    "\n",
    "class female(person):\n",
    "    pass\n",
    "A=male('somesh','male')\n",
    "A.getGender()\n",
    "\n",
    "    "
   ]
  },
  {
   "cell_type": "code",
   "execution_count": 27,
   "metadata": {},
   "outputs": [
    {
     "name": "stdout",
     "output_type": "stream",
     "text": [
      "I'm srishty and I'm female\n"
     ]
    }
   ],
   "source": [
    "B=female(\"srishty\",\"female\")\n",
    "B.getGender()"
   ]
  },
  {
   "cell_type": "markdown",
   "metadata": {},
   "source": [
    "Question 4:\n",
    "Please write a program to generate all sentences where subject is in [&quot;I&quot;, &quot;You&quot;] and\n",
    "verb is in [&quot;Play&quot;, &quot;Love&quot;] and the object is in [&quot;Hockey&quot;,&quot;Football&quot;]."
   ]
  },
  {
   "cell_type": "code",
   "execution_count": 10,
   "metadata": {},
   "outputs": [],
   "source": [
    "from pyinputplus import *\n",
    "class Sentence:\n",
    "    try:\n",
    "        def creating_sentince(self):\n",
    "            subject=(input(\"Please input words which you want to put as Subject in Sentence\\n\")).split()\n",
    "            verb=(input(\"Please input words which you want to put as verb in Sentence\\n\")).split()\n",
    "            objects=(input(\"Please input words which you want to put as object in Sentence\\n\")).split()\n",
    "            for i in subject:\n",
    "                for j in verb:\n",
    "                    for k in objects:\n",
    "                        print(f\"{i} {j} {k}\") \n",
    "    except Exception as e:\n",
    "        print(\"Some error has occured\",e)\n",
    "    \n"
   ]
  },
  {
   "cell_type": "code",
   "execution_count": 11,
   "metadata": {},
   "outputs": [
    {
     "name": "stdout",
     "output_type": "stream",
     "text": [
      "Please input words which you want to put as Subject in Sentence\n",
      "i you\n",
      "Please input words which you want to put as verb in Sentence\n",
      "play love\n",
      "Please input words which you want to put as object in Sentence\n",
      "hockey football\n",
      "i play hockey\n",
      "i play football\n",
      "i love hockey\n",
      "i love football\n",
      "you play hockey\n",
      "you play football\n",
      "you love hockey\n",
      "you love football\n"
     ]
    }
   ],
   "source": [
    "sen=Sentence()\n",
    "sen.creating_sentince()"
   ]
  },
  {
   "cell_type": "markdown",
   "metadata": {},
   "source": [
    "Question 5:\n",
    "Please write a program to compress and decompress the string &quot;hello world!hello\n",
    "world!hello world!hello world!&quot;."
   ]
  },
  {
   "cell_type": "code",
   "execution_count": 14,
   "metadata": {},
   "outputs": [],
   "source": [
    "import zlib\n",
    "class compmdecomp:    \n",
    "    try:\n",
    "        def compression(self):\n",
    "            userInput=input(\"Please Enter the String here\\n\")\n",
    "            d={}\n",
    "            result=\"\"\n",
    "            for i in userInput:\n",
    "                if i in d:\n",
    "                    d[i]=d[i]+1\n",
    "                else:\n",
    "                    d[i]=1\n",
    "            for k,v in d.items():\n",
    "                result=result+str(k)+str(v)    \n",
    "            \n",
    "            return f\" Here is Our Compressed String: {result}\"\n",
    "        def decompression(self):            \n",
    "            s = b'hello world!hello world!hello world!hello world!'\n",
    "            t=zlib.decompress(s)\n",
    "            return f\" Here is Our decompressed String: {t}\"\n",
    "            \n",
    "    except Exception as e:\n",
    "        print(\"Some error is there\",e)"
   ]
  },
  {
   "cell_type": "code",
   "execution_count": 15,
   "metadata": {},
   "outputs": [],
   "source": [
    "stri=compmdecomp()"
   ]
  },
  {
   "cell_type": "code",
   "execution_count": 25,
   "metadata": {},
   "outputs": [
    {
     "name": "stdout",
     "output_type": "stream",
     "text": [
      "Please Enter the String here\n",
      "hello world!hello world!hello world!hello world!\n"
     ]
    },
    {
     "data": {
      "text/plain": [
       "' Here is Our Compressed String: h4e4l12o8 4w4r4d4!4'"
      ]
     },
     "execution_count": 25,
     "metadata": {},
     "output_type": "execute_result"
    }
   ],
   "source": [
    "stri.compression()"
   ]
  },
  {
   "cell_type": "markdown",
   "metadata": {},
   "source": [
    "Question 6:\n",
    "Please write a binary search function which searches an item in a sorted list. The\n",
    "function should return the index of element to be searched in the list."
   ]
  },
  {
   "cell_type": "code",
   "execution_count": 47,
   "metadata": {},
   "outputs": [],
   "source": [
    "class search:    \n",
    "    def binarySearch(self,userInput, num):\n",
    "        userInput = sorted(userInput)\n",
    "        lowerLimit = 0\n",
    "        UpperLimit = len(userInput) - 1\n",
    "        while lowerLimit < UpperLimit:\n",
    "            index = (UpperLimit + lowerLimit) // 2\n",
    "            if userInput[lowerLimit] ==num:\n",
    "                print(f\"Here is the Sorted list:  {userInput} and {lowerLimit} is index the for desirable number \")\n",
    "                break\n",
    "            elif userInput[UpperLimit]==num:\n",
    "                print(f\"Here is the Sorted list:  {userInput} and {UpperLimit} is index the for desirable number \")\n",
    "                break\n",
    "\n",
    "            elif userInput[index] == num:\n",
    "                print(f\"Here is the Sorted list:  {userInput} and {index} is index the for desirable number \")\n",
    "                break\n",
    "            else:\n",
    "                if userInput[index] < num:\n",
    "                    lowerLimit = index + 1\n",
    "                else:\n",
    "                    UpperLimit = index - 1\n",
    "\n",
    "        else:\n",
    "            print(f\"{num} is not in the list\") "
   ]
  },
  {
   "cell_type": "code",
   "execution_count": 48,
   "metadata": {},
   "outputs": [],
   "source": [
    "num=search()"
   ]
  },
  {
   "cell_type": "code",
   "execution_count": 49,
   "metadata": {},
   "outputs": [
    {
     "name": "stdout",
     "output_type": "stream",
     "text": [
      "Here is the Sorted list:  [2, 3, 4, 5, 5, 32, 35, 521, 724, 2344, 3325, 3451, 4875] and 8 is index the for desirable number \n"
     ]
    }
   ],
   "source": [
    "num.binarySearch([2,4,32,5,3,5,35,3325,2344,521,3451,4875,724],724)"
   ]
  },
  {
   "cell_type": "code",
   "execution_count": null,
   "metadata": {},
   "outputs": [],
   "source": []
  }
 ],
 "metadata": {
  "kernelspec": {
   "display_name": "Python 3",
   "language": "python",
   "name": "python3"
  },
  "language_info": {
   "codemirror_mode": {
    "name": "ipython",
    "version": 3
   },
   "file_extension": ".py",
   "mimetype": "text/x-python",
   "name": "python",
   "nbconvert_exporter": "python",
   "pygments_lexer": "ipython3",
   "version": "3.8.5"
  }
 },
 "nbformat": 4,
 "nbformat_minor": 4
}
