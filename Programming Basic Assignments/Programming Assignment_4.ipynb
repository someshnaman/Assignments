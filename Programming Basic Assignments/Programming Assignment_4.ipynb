{
 "cells": [
  {
   "cell_type": "markdown",
   "metadata": {},
   "source": [
    "1) Write a Python Program to Find the Factorial of a Number?"
   ]
  },
  {
   "cell_type": "code",
   "execution_count": 1,
   "metadata": {},
   "outputs": [],
   "source": [
    "def fact(n): \n",
    "    \n",
    "    factorial=1\n",
    "    for i in range(1,n+1):\n",
    "        factorial=factorial*i\n",
    "    \n",
    "    return factorial   \n",
    "    "
   ]
  },
  {
   "cell_type": "code",
   "execution_count": 2,
   "metadata": {},
   "outputs": [
    {
     "data": {
      "text/plain": [
       "24"
      ]
     },
     "execution_count": 2,
     "metadata": {},
     "output_type": "execute_result"
    }
   ],
   "source": [
    "fact(4)"
   ]
  },
  {
   "cell_type": "markdown",
   "metadata": {},
   "source": [
    "2) Write a Python Program to Display the multiplication Table?"
   ]
  },
  {
   "cell_type": "code",
   "execution_count": 4,
   "metadata": {},
   "outputs": [
    {
     "name": "stdout",
     "output_type": "stream",
     "text": [
      "input the number of which you want to get table5\n",
      "5x1=5\n",
      "5x2=10\n",
      "5x3=15\n",
      "5x4=20\n",
      "5x5=25\n",
      "5x6=30\n",
      "5x7=35\n",
      "5x8=40\n",
      "5x9=45\n",
      "5x10=50\n"
     ]
    }
   ],
   "source": [
    "table=int(input('input the number of which you want to get table'))\n",
    "for i in range(1,11):\n",
    "    print(f'{table}x{i}={table*i}')"
   ]
  },
  {
   "cell_type": "markdown",
   "metadata": {},
   "source": [
    "3) Write a Python Program to Print the Fibonacci sequence?"
   ]
  },
  {
   "cell_type": "code",
   "execution_count": 35,
   "metadata": {},
   "outputs": [],
   "source": [
    "def fib(n):\n",
    "    g=[0,1]\n",
    "    i=0\n",
    "    # check if the number of terms is valid\n",
    "    if nterms <= 0:\n",
    "       print(\"Please enter a positive integer\")\n",
    "    elif nterms == 1:\n",
    "       print(\"Fibonacci sequence upto\",g,\":\")\n",
    "   \n",
    "    else:\n",
    "        for f in range(1,n):               \n",
    "            g.append(i)\n",
    "            i=g[-2]+g[-1]\n",
    "    return g"
   ]
  },
  {
   "cell_type": "markdown",
   "metadata": {},
   "source": [
    "4) Write a Python Program to Check Armstrong Number?"
   ]
  },
  {
   "cell_type": "code",
   "execution_count": 33,
   "metadata": {},
   "outputs": [],
   "source": [
    "def armstrong():\n",
    "    #take to input from the user\n",
    "    userInput=input(\"Pleae enter the number which is to be checked: \")\n",
    "    g=[]\n",
    "    for i in range(len(userInput)):        \n",
    "        g.append(int(userInput[i])**3)        \n",
    "    if sum(g)==int(userInput):\n",
    "        print(f'{int(userInput)} is armstrong number')\n",
    "    else:\n",
    "        print(f'{int(userInput)} is not armstrong number')\n"
   ]
  },
  {
   "cell_type": "markdown",
   "metadata": {},
   "source": [
    "5) Write a Python Program to Find Armstrong Number in an Interval?"
   ]
  },
  {
   "cell_type": "code",
   "execution_count": 60,
   "metadata": {},
   "outputs": [],
   "source": [
    "def armstrong_range(a,b):\n",
    "    # we'll take a, b as range into which we need to find the armstrong numbers      \n",
    "    for k in range(a,b):\n",
    "        g=[]\n",
    "        #here we'll append cube of digits of particular number \n",
    "        for i in range(len(str(k))):            \n",
    "            g.append((int(str(k)[i]))**3)\n",
    "        if sum(g)==k:\n",
    "                     print(f'{k} is armstrong number')\n",
    "        else:                     \n",
    "                     print(f'{k} is not armstrong number')\n",
    "        g=[]\n",
    "\n",
    "    "
   ]
  },
  {
   "cell_type": "markdown",
   "metadata": {},
   "source": [
    "5) Write a Python Program to Find the Sum of Natural Numbers?"
   ]
  },
  {
   "cell_type": "code",
   "execution_count": 7,
   "metadata": {},
   "outputs": [
    {
     "name": "stdout",
     "output_type": "stream",
     "text": [
      "Enter a number: 25\n",
      "The sum is 325\n"
     ]
    }
   ],
   "source": [
    "j=True\n",
    "while j:\n",
    "\n",
    "    num = int(input(\"Enter a number: \"))  \n",
    "      \n",
    "    if num < 0:  \n",
    "       print(\"Enter a positive number\")  \n",
    "    else:  \n",
    "       sum = 0  \n",
    "       # use while loop to iterate un till zero  \n",
    "       while(num > 0):  \n",
    "           sum += num  \n",
    "           num -= 1\n",
    "       print(\"The sum is\",sum)\n",
    "       j=False\n",
    "        "
   ]
  },
  {
   "cell_type": "code",
   "execution_count": null,
   "metadata": {},
   "outputs": [],
   "source": []
  }
 ],
 "metadata": {
  "kernelspec": {
   "display_name": "Python 3",
   "language": "python",
   "name": "python3"
  }
 },
 "nbformat": 4,
 "nbformat_minor": 4
}
