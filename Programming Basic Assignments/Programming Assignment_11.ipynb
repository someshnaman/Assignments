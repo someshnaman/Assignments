{
 "cells": [
  {
   "cell_type": "markdown",
   "metadata": {},
   "source": [
    "1. Write a Python program to find words which are greater than given length k?"
   ]
  },
  {
   "cell_type": "code",
   "execution_count": 8,
   "metadata": {},
   "outputs": [],
   "source": [
    "def findWord():\n",
    "    finalList=[]\n",
    "    try:\n",
    "        #we'll take user input for the string in which we're supposed to find\n",
    "        userWord=list(input(\"Please Enter the words here: \").split())\n",
    "        k=int(input(\"Please enter the length of the number: \"))\n",
    "        for i in userWord:\n",
    "            if len(i)>k:\n",
    "                finalList.append(i)\n",
    "        \n",
    "        return f\"Here is our final list of words whose lenth is greator than {k}: {finalList}\"\n",
    "    except Exception as e:\n",
    "        print(\"Some error has occured Please try again\")"
   ]
  },
  {
   "cell_type": "code",
   "execution_count": 9,
   "metadata": {},
   "outputs": [
    {
     "name": "stdout",
     "output_type": "stream",
     "text": [
      "Please Enter the words here: Hey there be there My name is somesh and I'm 25 years old\n",
      "Please enter the length of the number: 4\n"
     ]
    },
    {
     "data": {
      "text/plain": [
       "\"Here is our final list of words whose lenth is greator than 4: ['there', 'there', 'somesh', 'years']\""
      ]
     },
     "execution_count": 9,
     "metadata": {},
     "output_type": "execute_result"
    }
   ],
   "source": [
    "findWord()"
   ]
  },
  {
   "cell_type": "markdown",
   "metadata": {},
   "source": [
    "2. Write a Python program for removing i-th character from a string?"
   ]
  },
  {
   "cell_type": "code",
   "execution_count": 19,
   "metadata": {},
   "outputs": [],
   "source": [
    "def findChar():    \n",
    "    try:\n",
    "        #we'll take user input for the string in which we're supposed to find\n",
    "        userWord=input(\"Please Enter the String here: \")\n",
    "        i=int(input(\"Please Enter the index which you want to find out: \"))\n",
    "        print(f\"The {i}th character of the string is {userWord[i]} \")\n",
    "        \n",
    "        \n",
    "    except Exception as e:\n",
    "        print(\"Some error has occured Please try again\")"
   ]
  },
  {
   "cell_type": "code",
   "execution_count": 20,
   "metadata": {},
   "outputs": [
    {
     "name": "stdout",
     "output_type": "stream",
     "text": [
      "Please Enter the String here: Somesh Chitranshi\n",
      "Please Enter the index which you want to find out: 8\n",
      "The 8th character of the string is h \n"
     ]
    }
   ],
   "source": [
    "findChar()"
   ]
  },
  {
   "cell_type": "markdown",
   "metadata": {},
   "source": [
    "3. Write a Python program to split and join a string?"
   ]
  },
  {
   "cell_type": "code",
   "execution_count": 3,
   "metadata": {},
   "outputs": [],
   "source": [
    "from pyinputplus import * \n",
    "def splitChar():\n",
    "    try:\n",
    "        #1st i'll ask user whether he or she want to split the String into Characters or into different word\n",
    "        askUser=inputNum('Please enter 0 for splitting strin into character and 1 for splitting into word\": ')\n",
    "        if askUser==0:\n",
    "            #splitting into Characters\n",
    "\n",
    "            string=input(\"Please Enter the String here: \")\n",
    "\n",
    "            split_string=list(string)        \n",
    "\n",
    "            print(f\"the Splitted string is {split_string} \")\n",
    "\n",
    "            # Now we'll join the string\n",
    "\n",
    "            joined_list=\"\".join(split_string)\n",
    "\n",
    "            print(f\"the Joined string is {joined_list} \")\n",
    "        else:\n",
    "\n",
    "            #splitting into words\n",
    "\n",
    "            string=input(\"Please Enter the String here: \")\n",
    "\n",
    "            split_string=string.split()\n",
    "\n",
    "            print(f\"the Splitted string is {split_string} \")\n",
    "\n",
    "            # Now we'll join the string\n",
    "\n",
    "            joined_list=\" \".join(split_string)\n",
    "\n",
    "            print(f\"the Joined string is {joined_list} \")\n",
    "    except Exception as e:\n",
    "        print(\"Theere is some error Please try again \",e)\n",
    "        splitChar()\n",
    "        \n"
   ]
  },
  {
   "cell_type": "code",
   "execution_count": 4,
   "metadata": {},
   "outputs": [
    {
     "name": "stdout",
     "output_type": "stream",
     "text": [
      "Please enter 0 for splitting strin into character and 1 for splitting into word\": 1\n",
      "Please Enter the String here: Hey there be there\n",
      "the Splitted string is ['Hey', 'there', 'be', 'there'] \n",
      "the Joined string is Hey there be there \n"
     ]
    }
   ],
   "source": [
    "splitChar()"
   ]
  },
  {
   "cell_type": "markdown",
   "metadata": {},
   "source": [
    "4. Write a Python to check if a given string is binary string or not?"
   ]
  },
  {
   "cell_type": "code",
   "execution_count": 23,
   "metadata": {},
   "outputs": [],
   "source": [
    "def checkbinary(string):\n",
    "    j=[ True if i=='0' or i=='1' else False   for i in string ]\n",
    "    \n",
    "    if all(j):\n",
    "        print(f\"Yes {string} is a Binary String.\")\n",
    "    else:\n",
    "        print(f\"No {string} is not a Binary String.\")\n",
    "    \n"
   ]
  },
  {
   "cell_type": "code",
   "execution_count": 24,
   "metadata": {},
   "outputs": [
    {
     "name": "stdout",
     "output_type": "stream",
     "text": [
      "Yes 010101110 is a Binary String.\n"
     ]
    }
   ],
   "source": [
    "checkbinary(\"010101110\")"
   ]
  },
  {
   "cell_type": "markdown",
   "metadata": {},
   "source": [
    "5. Write a Python program to find uncommon words from two Strings?"
   ]
  },
  {
   "cell_type": "code",
   "execution_count": 3,
   "metadata": {},
   "outputs": [],
   "source": [
    "def uncommonWords(A,B):\n",
    "    totalList=[]\n",
    "    finalList=[]\n",
    "    A_list=A.split()\n",
    "    B_list=B.split()\n",
    "    totalList.extend(A.split())\n",
    "    totalList.extend(B.split())\n",
    "    \n",
    "    \n",
    "    for i in totalList:\n",
    "        if i in A_list and i in B_list:\n",
    "            continue                      \n",
    "        else:\n",
    "            finalList.append(i)\n",
    "            \n",
    "            \n",
    "            \n",
    "\n",
    "    return f\"Here is the final list of Uncommon words: {finalList}\"            \n",
    "    "
   ]
  },
  {
   "cell_type": "code",
   "execution_count": 4,
   "metadata": {},
   "outputs": [
    {
     "data": {
      "text/plain": [
       "'Here is the final list of Uncommon words: [\\'Somesh\\', \\'how\\', \\'are\\', \\'vyomkant\\', \\'misra\\', \"I\\'m\", \\'Godod\\']'"
      ]
     },
     "execution_count": 4,
     "metadata": {},
     "output_type": "execute_result"
    }
   ],
   "source": [
    "A=\"Hey Somesh how are\"\n",
    "B=\"Hey vyomkant misra I'm Godod\"\n",
    "uncommonWords(A,B)"
   ]
  },
  {
   "cell_type": "markdown",
   "metadata": {},
   "source": [
    "6. Write a Python to find all duplicate characters in string?"
   ]
  },
  {
   "cell_type": "code",
   "execution_count": 9,
   "metadata": {},
   "outputs": [],
   "source": [
    "def dupChar(string):\n",
    "    listOfDuplicate=[]\n",
    "    for i in string:\n",
    "        k=string.count(i)\n",
    "        if k>1:\n",
    "            listOfDuplicate.append(i)\n",
    "    return f\"Here is the list of all the duplicate Characters in the String: {set(listOfDuplicate)} \""
   ]
  },
  {
   "cell_type": "code",
   "execution_count": 10,
   "metadata": {},
   "outputs": [
    {
     "data": {
      "text/plain": [
       "\"Here is the list of all the duplicate Characters in the String: {'y', 'e', ' '} \""
      ]
     },
     "execution_count": 10,
     "metadata": {},
     "output_type": "execute_result"
    }
   ],
   "source": [
    "dupChar(\"Hey are you fine\")"
   ]
  },
  {
   "cell_type": "markdown",
   "metadata": {},
   "source": [
    "\n",
    "7. Write a Python Program to check if a string contains any special character?"
   ]
  },
  {
   "cell_type": "code",
   "execution_count": 21,
   "metadata": {},
   "outputs": [],
   "source": [
    "import string\n",
    "def spcChar(string1):\n",
    "    for i in string1:\n",
    "        if i in string.punctuation:\n",
    "            print(\"Yes String have a Special character present in string\")\n",
    "            break\n",
    "    else:\n",
    "        print(\"String Doesn't contain any Special character\")\n",
    "    "
   ]
  },
  {
   "cell_type": "code",
   "execution_count": 22,
   "metadata": {},
   "outputs": [
    {
     "name": "stdout",
     "output_type": "stream",
     "text": [
      "String Doesn't contain any Special character\n"
     ]
    }
   ],
   "source": [
    "spcChar(\"Hey how are you\")"
   ]
  },
  {
   "cell_type": "code",
   "execution_count": null,
   "metadata": {},
   "outputs": [],
   "source": []
  }
 ],
 "metadata": {
  "kernelspec": {
   "display_name": "Python 3",
   "language": "python",
   "name": "python3"
  },
  "language_info": {
   "codemirror_mode": {
    "name": "ipython",
    "version": 3
   },
   "file_extension": ".py",
   "mimetype": "text/x-python",
   "name": "python",
   "nbconvert_exporter": "python",
   "pygments_lexer": "ipython3",
   "version": "3.8.5"
  }
 },
 "nbformat": 4,
 "nbformat_minor": 4
}
