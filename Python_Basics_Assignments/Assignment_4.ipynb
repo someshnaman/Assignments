{
 "cells": [
  {
   "cell_type": "markdown",
   "metadata": {},
   "source": [
    "1. What exactly is []?"
   ]
  },
  {
   "cell_type": "markdown",
   "metadata": {},
   "source": [
    "Ans 1) it represents an empty list"
   ]
  },
  {
   "cell_type": "markdown",
   "metadata": {},
   "source": [
    "2. In a list of values stored in a variable called spam, how would you assign the value &#39;hello&#39; as the\n",
    "third value? (Assume [2, 4, 6, 8, 10] are in spam.)"
   ]
  },
  {
   "cell_type": "code",
   "execution_count": 2,
   "metadata": {},
   "outputs": [],
   "source": [
    "#Given list\n",
    "spam=[2, 4, 6, 8, 10]\n",
    "#1st method\n",
    "spam[2]=\"hello\"\n",
    "#2nd method\n",
    "spam.insert(2,\"hello\")"
   ]
  },
  {
   "cell_type": "markdown",
   "metadata": {},
   "source": [
    "3. What is the value of spam[int(int(\"3\" * 2) / 11)]?"
   ]
  },
  {
   "cell_type": "code",
   "execution_count": 10,
   "metadata": {
    "scrolled": false
   },
   "outputs": [
    {
     "data": {
      "text/plain": [
       "8"
      ]
     },
     "execution_count": 10,
     "metadata": {},
     "output_type": "execute_result"
    }
   ],
   "source": [
    "#assume a spam list\n",
    "spam=[2, 4, 6, 8, 10]\n",
    "\"\"\"\n",
    "if we try to understand this code than first string \"3\" with multiplication with 2 will give string \"33\" after that int\n",
    "funtion will convert this string \"33\" into integer which after division with 11 will give us float number i.e 3.0.\n",
    "for indexing operation, it only accepts integer value therefore we'll again implement int function to return 3 as integer.\n",
    "now spam[3] has value 8 there our end result is 8.\n",
    "\n",
    "\"\"\"\n",
    "spam[int(int(\"3\" * 2)/ 11)]\n"
   ]
  },
  {
   "cell_type": "markdown",
   "metadata": {},
   "source": [
    "4. What is the value of spam[-1]?"
   ]
  },
  {
   "cell_type": "code",
   "execution_count": 12,
   "metadata": {},
   "outputs": [
    {
     "data": {
      "text/plain": [
       "10"
      ]
     },
     "execution_count": 12,
     "metadata": {},
     "output_type": "execute_result"
    }
   ],
   "source": [
    "spam=[2, 4, 6, 8, 10]\n",
    "#we need to find spam[-1]\n",
    "\"\"\"\n",
    "the -ive indexes starts from right direction of the list wih index -1 therefore if we'll try to access spam[-1]\n",
    "we'll get result 10\n",
    "\n",
    "\"\"\"\n",
    "spam[-1]\n"
   ]
  },
  {
   "cell_type": "markdown",
   "metadata": {},
   "source": [
    "5. What is the value of spam[:2]?"
   ]
  },
  {
   "cell_type": "code",
   "execution_count": 13,
   "metadata": {},
   "outputs": [
    {
     "data": {
      "text/plain": [
       "[2, 4]"
      ]
     },
     "execution_count": 13,
     "metadata": {},
     "output_type": "execute_result"
    }
   ],
   "source": [
    "spam=[2, 4, 6, 8, 10]\n",
    "\"\"\"\n",
    "here we are tring to get the value of spam[:2]. if we do not provide any initial postion to start from Python \n",
    "automatically interpret to start the index from zero so spam[:2] will give the value of indexes 0 and 1\n",
    "\n",
    "\"\"\"\n",
    "spam[:2]"
   ]
  },
  {
   "cell_type": "markdown",
   "metadata": {},
   "source": [
    "6. What is the value of bacon.index(\"cat\")?"
   ]
  },
  {
   "cell_type": "code",
   "execution_count": 14,
   "metadata": {},
   "outputs": [
    {
     "data": {
      "text/plain": [
       "1"
      ]
     },
     "execution_count": 14,
     "metadata": {},
     "output_type": "execute_result"
    }
   ],
   "source": [
    "#given list\n",
    "bacon=[3.14,\"cat\",11,\"cat\",True]\n",
    "\n",
    "\"\"\"\n",
    "we need to find out the value of bacon.index(\"cat\"). index funtion provides use the index of the passed item.\n",
    "\n",
    "\"\"\"\n",
    "bacon.index(\"cat\")\n"
   ]
  },
  {
   "cell_type": "markdown",
   "metadata": {},
   "source": [
    "7. How does bacon.append(99) change the look of the list value in bacon?"
   ]
  },
  {
   "cell_type": "code",
   "execution_count": 16,
   "metadata": {},
   "outputs": [
    {
     "data": {
      "text/plain": [
       "[3.14, 'cat', 11, 'cat', True, 99]"
      ]
     },
     "execution_count": 16,
     "metadata": {},
     "output_type": "execute_result"
    }
   ],
   "source": [
    "#given list\n",
    "bacon=[3.14,\"cat\",11,\"cat\",True]\n",
    "\"\"\"\n",
    "append method of list will add the passed item at the last index of the list\n",
    "\n",
    "\"\"\"\n",
    "bacon.append(99)\n",
    "bacon"
   ]
  },
  {
   "cell_type": "markdown",
   "metadata": {},
   "source": [
    "8. How does bacon.remove('çat') change the look of the list in bacon?"
   ]
  },
  {
   "cell_type": "code",
   "execution_count": 19,
   "metadata": {},
   "outputs": [
    {
     "data": {
      "text/plain": [
       "[3.14, 11, 'cat', True]"
      ]
     },
     "execution_count": 19,
     "metadata": {},
     "output_type": "execute_result"
    }
   ],
   "source": [
    "#given list\n",
    "bacon=[3.14,\"cat\",11,\"cat\",True]\n",
    "\"\"\"\n",
    "Remove method will removes the passed item from the list. the one thing is to note that it'll only remove \n",
    "1st occurance of the passed item.\n",
    "\n",
    "\"\"\"\n",
    "bacon.remove(\"cat\")\n",
    "bacon"
   ]
  },
  {
   "cell_type": "markdown",
   "metadata": {},
   "source": [
    "9. What are the list concatenation and list replication operators?"
   ]
  },
  {
   "cell_type": "code",
   "execution_count": 22,
   "metadata": {},
   "outputs": [
    {
     "data": {
      "text/plain": [
       "[1, 3.4, True, 5, 'SOmesH', 1, 3.4, True, 5, 'SOmesH']"
      ]
     },
     "execution_count": 22,
     "metadata": {},
     "output_type": "execute_result"
    }
   ],
   "source": [
    "'''\n",
    "+ operator is used for list concatination and * operator is used for the list replication\n",
    "ex.\n",
    "'''\n",
    "l=[1,3.4,True,5,\"SOmesH\"]\n",
    "#for concatination\n",
    "l+l\n",
    "#for replication\n",
    "l*2"
   ]
  },
  {
   "cell_type": "markdown",
   "metadata": {},
   "source": [
    "10. What is difference between the list methods append() and insert()?"
   ]
  },
  {
   "cell_type": "code",
   "execution_count": 23,
   "metadata": {},
   "outputs": [
    {
     "name": "stdout",
     "output_type": "stream",
     "text": [
      "[1, 3.4, True, 5, 'SOmesH', 458]\n",
      "[1, 3.4, 'hey this is my assignment', True, 5, 'SOmesH', 458]\n"
     ]
    }
   ],
   "source": [
    "    \"\"\"\n",
    "append method will append the passed element at the last index of the list whereas insert \n",
    "method(which takes two arguement 1. index 2. object) will insert the passed object at given index and shift all it's right \n",
    "side items with 1 position \n",
    "for ex.\n",
    "\n",
    "\"\"\"\n",
    "#for append\n",
    "l=[1,3.4,True,5,\"SOmesH\"]\n",
    "l.append(458)\n",
    "print(l)\n",
    "\n",
    "#for insert \n",
    "l.insert(2,'hey this is my assignment')\n",
    "print(l)"
   ]
  },
  {
   "cell_type": "markdown",
   "metadata": {},
   "source": [
    "11. What are the two methods for removing items from a list?"
   ]
  },
  {
   "cell_type": "code",
   "execution_count": 58,
   "metadata": {},
   "outputs": [
    {
     "name": "stdout",
     "output_type": "stream",
     "text": [
      "[1, 3.4, 'hey this is my assignment', True, 5, 'SOmesH']\n",
      "[1, 'hey this is my assignment', True, 5, 'SOmesH']\n"
     ]
    }
   ],
   "source": [
    "\"\"\"\n",
    "Through pop and remove method we can remove elements from the list. pop method will will remove the item present at the \n",
    "last index of the list whereas remove methon takes argument which is to be remove from the list.\n",
    "for ex.\n",
    "\n",
    "\"\"\"\n",
    "l=[1, 3.4, 'hey this is my assignment', True, 5, 'SOmesH', 458]\n",
    "\n",
    "#pop method\n",
    "l.pop()\n",
    "print(l)\n",
    "#remove method\n",
    "l.remove(3.4)\n",
    "print(l)"
   ]
  },
  {
   "cell_type": "markdown",
   "metadata": {},
   "source": [
    "12. Describe how list values and string values are identical."
   ]
  },
  {
   "cell_type": "markdown",
   "metadata": {},
   "source": [
    "String and list are both ordered way of storing data which means that the data is stored in the wrt to index. So we can extract values in both list and string with the help of index slicing.\n",
    "As data is stored with bits and pieces with the help of indexs so we can iterate the values through for or while loops.\n",
    "we can also use len and range function."
   ]
  },
  {
   "cell_type": "markdown",
   "metadata": {},
   "source": [
    "13. What's the difference between tuples and lists?"
   ]
  },
  {
   "cell_type": "markdown",
   "metadata": {},
   "source": [
    " Tuple is immutable entity whereas list is a mutable entity which means that we can change, add, remove values of list but we can't do such things with tuple."
   ]
  },
  {
   "cell_type": "markdown",
   "metadata": {},
   "source": [
    "14. How do you type a tuple value that only contains the integer 42?"
   ]
  },
  {
   "cell_type": "code",
   "execution_count": 37,
   "metadata": {},
   "outputs": [
    {
     "data": {
      "text/plain": [
       "tuple"
      ]
     },
     "execution_count": 37,
     "metadata": {},
     "output_type": "execute_result"
    }
   ],
   "source": [
    "t=(42,)\n",
    "type(t)"
   ]
  },
  {
   "cell_type": "markdown",
   "metadata": {},
   "source": [
    "15. How do you get a list value&#39;s tuple form? How do you get a tuple value&#39;s list form?"
   ]
  },
  {
   "cell_type": "code",
   "execution_count": 54,
   "metadata": {},
   "outputs": [
    {
     "name": "stdout",
     "output_type": "stream",
     "text": [
      "(1, 3.4, True, 5, 'SOmesH')\n",
      "[1, 3.4, True, 5, 'SOmesH']\n",
      "[1, 3.4, True, 5, 'SOmesH']\n"
     ]
    }
   ],
   "source": [
    "#for listing list values in a tuple\n",
    "l=[1,3.4,True,5,\"SOmesH\"]\n",
    "j=tuple(l)\n",
    "print(j)\n",
    "\n",
    "#for listing tuple values in a list\n",
    "\n",
    "#method 1\n",
    "t=(1,3.4,True,5,\"SOmesH\")\n",
    "k=list(t)\n",
    "print(k)\n",
    "\n",
    "#method 2\n",
    "t=(1,3.4,True,5,\"SOmesH\")\n",
    "j=[]\n",
    "for i in t:\n",
    "    j.append(i)\n",
    "print(j)\n"
   ]
  },
  {
   "cell_type": "markdown",
   "metadata": {},
   "source": [
    "16. Variables that \"contain\" list values are not necessarily lists themselves. Instead, what do they\n",
    "contain?"
   ]
  },
  {
   "cell_type": "code",
   "execution_count": 55,
   "metadata": {},
   "outputs": [],
   "source": [
    "# i don't understand what this question is asking"
   ]
  },
  {
   "cell_type": "markdown",
   "metadata": {},
   "source": [
    "17. How do you distinguish between copy.copy() and copy.deepcopy()?"
   ]
  },
  {
   "cell_type": "markdown",
   "metadata": {},
   "source": [
    "import copy\n",
    "copy.copy() will do shallow copy and copy.deepcopy() will do deep copy"
   ]
  },
  {
   "cell_type": "code",
   "execution_count": null,
   "metadata": {},
   "outputs": [],
   "source": []
  }
 ],
 "metadata": {
  "kernelspec": {
   "display_name": "Python 3",
   "language": "python",
   "name": "python3"
  },
  "language_info": {
   "codemirror_mode": {
    "name": "ipython",
    "version": 3
   },
   "file_extension": ".py",
   "mimetype": "text/x-python",
   "name": "python",
   "nbconvert_exporter": "python",
   "pygments_lexer": "ipython3",
   "version": "3.8.5"
  }
 },
 "nbformat": 4,
 "nbformat_minor": 4
}
