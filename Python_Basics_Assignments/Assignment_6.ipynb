{
 "cells": [
  {
   "cell_type": "markdown",
   "metadata": {},
   "source": [
    "1. What are escape characters, and how do you use them?"
   ]
  },
  {
   "cell_type": "code",
   "execution_count": 13,
   "metadata": {},
   "outputs": [
    {
     "name": "stdout",
     "output_type": "stream",
     "text": [
      "hey please Start a new line\n",
      "Now i'm in new line \n",
      "Hey can you please create space between tom\t&\tJerry\n",
      "hey Srivastava's are very rich\n"
     ]
    }
   ],
   "source": [
    "# In Python strings, the backslash \"\\\" is a special character, also called the \"escape\" character. \n",
    "# escape Characters are used in strings to perform certain tasks.\n",
    "\n",
    "#for ex-\"\\n\" is escape character is used for entering into new line\n",
    "j=(\"hey please Start a new line\\nNow i'm in new line \")\n",
    "print(j)\n",
    "\n",
    "#\"\\t\" is the escape character used for giving tab between strings\n",
    "t=(\"Hey can you please create space between tom\\t&\\tJerry\")\n",
    "print(t)\n",
    "\n",
    "#One escape character is Backlace character \"\\\".This is used when you want python to ignore something in strings.ex\n",
    "s='hey Srivastava\\'s are very rich'\n",
    "#if I'd not have inserted \\ in between Our COmpiler will get confused that where our strin is getting closed by giving\n",
    "#backlash we're telling Python to ignore the Quote and print it as a String\n",
    "print(s)"
   ]
  },
  {
   "cell_type": "markdown",
   "metadata": {},
   "source": [
    "2. What do the escape characters n and t stand for?"
   ]
  },
  {
   "cell_type": "code",
   "execution_count": 14,
   "metadata": {},
   "outputs": [
    {
     "name": "stdout",
     "output_type": "stream",
     "text": [
      "Hey chose between Slack\tor Jerry\n"
     ]
    }
   ],
   "source": [
    "#\"\\t\" is the escape character used for giving tab between strings\n",
    "t=(\"Hey chose between Slack\\tor Teams\")\n",
    "print(t)\n",
    "\n",
    "#\"\\n\" is escape character is used for entering into new line\n",
    "j=(\"hey please Start a new line\\nNow i'm in new line \")\n",
    "print(j)"
   ]
  },
  {
   "cell_type": "markdown",
   "metadata": {},
   "source": [
    "3. What is the way to include backslash characters in a string?"
   ]
  },
  {
   "cell_type": "code",
   "execution_count": 10,
   "metadata": {},
   "outputs": [
    {
     "name": "stdout",
     "output_type": "stream",
     "text": [
      "\"\\\" is our backlace character\n"
     ]
    }
   ],
   "source": [
    "# BY using \"\\\\\" in the string, we can include the a backlash Character.for ex.\n",
    "Bk='\"\\\\\" is our backlace character'\n",
    "print(Bk)"
   ]
  },
  {
   "cell_type": "markdown",
   "metadata": {},
   "source": [
    "4. The string \"Howl's moving castle\" is a correct value. Why isn&#39;t the single quote character in the\n",
    "word Howl's not escaped a problem?"
   ]
  },
  {
   "cell_type": "code",
   "execution_count": 12,
   "metadata": {},
   "outputs": [
    {
     "name": "stdout",
     "output_type": "stream",
     "text": [
      "Howl's moving castle\n"
     ]
    }
   ],
   "source": [
    "'''\n",
    "Here our String is defined in double quotation(\"\") that is why in \"Howl's\" it is not giving us error. it would have given us problem\n",
    "error if our string would have defined into single quotation('')  and than we'll get error in Howl's. to tackle this than we had to use\n",
    "backlash character ex.\n",
    "\n",
    "'''\n",
    "string='Howl\\'s moving castle' # Here Now inserting \\ before 's will trun this quotation into Ordinary character and we'll not get error\n",
    "print(string)"
   ]
  },
  {
   "cell_type": "markdown",
   "metadata": {},
   "source": [
    "5. How do you write a string of newlines if you don&#39;t want to use the n character?"
   ]
  },
  {
   "cell_type": "code",
   "execution_count": null,
   "metadata": {},
   "outputs": [],
   "source": [
    "print()"
   ]
  },
  {
   "cell_type": "markdown",
   "metadata": {},
   "source": [
    "6. What are the values of the given expressions?\n",
    "\"Hello World!\"[1]\n",
    "\"Hello World!\"[0:5]\n",
    "\"Hello World!\"[:5]\n",
    "\"Hello World!\"[3:]"
   ]
  },
  {
   "cell_type": "code",
   "execution_count": 13,
   "metadata": {},
   "outputs": [
    {
     "data": {
      "text/plain": [
       "'e'"
      ]
     },
     "execution_count": 13,
     "metadata": {},
     "output_type": "execute_result"
    }
   ],
   "source": [
    "\"Hello World!\"[1] #This will return us the value present at 1 Index i.e \"e\""
   ]
  },
  {
   "cell_type": "code",
   "execution_count": 14,
   "metadata": {},
   "outputs": [
    {
     "data": {
      "text/plain": [
       "'Hello'"
      ]
     },
     "execution_count": 14,
     "metadata": {},
     "output_type": "execute_result"
    }
   ],
   "source": [
    "\"Hello World!\"[0:5]# This code will return the value from 0 index till 4"
   ]
  },
  {
   "cell_type": "code",
   "execution_count": 15,
   "metadata": {},
   "outputs": [
    {
     "data": {
      "text/plain": [
       "'Hello'"
      ]
     },
     "execution_count": 15,
     "metadata": {},
     "output_type": "execute_result"
    }
   ],
   "source": [
    "\"Hello World!\"[:5]# As Initil Starting point is not given here it will automatically take 0 as Starting point and will return the value from 0 index till 4"
   ]
  },
  {
   "cell_type": "code",
   "execution_count": 16,
   "metadata": {},
   "outputs": [
    {
     "data": {
      "text/plain": [
       "'lo World!'"
      ]
     },
     "execution_count": 16,
     "metadata": {},
     "output_type": "execute_result"
    }
   ],
   "source": [
    "\"Hello World!\"[3:] #As No final index position is not given here so it will return all the elements starting from 3 till the string ends. "
   ]
  },
  {
   "cell_type": "markdown",
   "metadata": {},
   "source": [
    "7. What are the values of the following expressions?\n",
    "\"Hello\".upper()\n",
    "\"Hello\".upper().isupper()\n",
    "\"Hello\".upper().lower()"
   ]
  },
  {
   "cell_type": "code",
   "execution_count": 19,
   "metadata": {},
   "outputs": [
    {
     "data": {
      "text/plain": [
       "'HELLO'"
      ]
     },
     "execution_count": 19,
     "metadata": {},
     "output_type": "execute_result"
    }
   ],
   "source": [
    "\"Hello\".upper() # the upper method will change all the chracters in the strings into the upper case"
   ]
  },
  {
   "cell_type": "code",
   "execution_count": 20,
   "metadata": {},
   "outputs": [
    {
     "data": {
      "text/plain": [
       "True"
      ]
     },
     "execution_count": 20,
     "metadata": {},
     "output_type": "execute_result"
    }
   ],
   "source": [
    "\"Hello\".upper().isupper() #isupper method checks whether all character of string are in upper case or not and returns True or False as per the check."
   ]
  },
  {
   "cell_type": "code",
   "execution_count": 21,
   "metadata": {},
   "outputs": [
    {
     "data": {
      "text/plain": [
       "'hello'"
      ]
     },
     "execution_count": 21,
     "metadata": {},
     "output_type": "execute_result"
    }
   ],
   "source": [
    "\"Hello\".upper().lower() #Here lower method will change all the character of string into lowercase."
   ]
  },
  {
   "cell_type": "markdown",
   "metadata": {},
   "source": [
    "8. What are the values of the following expressions?\n",
    "\"Remeber,remember,the fifth of july\".spilt()\n",
    "\"-\".join('there can only one'.split())"
   ]
  },
  {
   "cell_type": "code",
   "execution_count": 2,
   "metadata": {},
   "outputs": [
    {
     "data": {
      "text/plain": [
       "['Remeber,remember,the', 'fifth', 'of', 'july']"
      ]
     },
     "execution_count": 2,
     "metadata": {},
     "output_type": "execute_result"
    }
   ],
   "source": [
    "'''\n",
    "The split() method splits a string into a list.\n",
    "we can specify the separator but by default separator is any whitespace.\n",
    "'''\n",
    "\"Remeber,remember,the fifth of july\".split()"
   ]
  },
  {
   "cell_type": "code",
   "execution_count": 11,
   "metadata": {},
   "outputs": [
    {
     "data": {
      "text/plain": [
       "'there-can-only-one'"
      ]
     },
     "execution_count": 11,
     "metadata": {},
     "output_type": "execute_result"
    }
   ],
   "source": [
    "\"-\".join('there can only one'.split())"
   ]
  },
  {
   "cell_type": "markdown",
   "metadata": {},
   "source": [
    "9. What are the methods for right-justifying, left-justifying, and centering a string?"
   ]
  },
  {
   "cell_type": "code",
   "execution_count": 11,
   "metadata": {},
   "outputs": [
    {
     "data": {
      "text/plain": [
       "'---------hey This is my String'"
      ]
     },
     "execution_count": 11,
     "metadata": {},
     "output_type": "execute_result"
    }
   ],
   "source": [
    "j=\"hey This is my String\"\n",
    "#for right Justifying we can use rjust()\n",
    "j.rjust(30,\"-\")"
   ]
  },
  {
   "cell_type": "code",
   "execution_count": 10,
   "metadata": {},
   "outputs": [
    {
     "data": {
      "text/plain": [
       "'hey This is my String---------'"
      ]
     },
     "execution_count": 10,
     "metadata": {},
     "output_type": "execute_result"
    }
   ],
   "source": [
    "#for left Justifying we can use ljust()\n",
    "j.ljust(30,\"-\")"
   ]
  },
  {
   "cell_type": "code",
   "execution_count": 12,
   "metadata": {},
   "outputs": [
    {
     "data": {
      "text/plain": [
       "'----hey This is my String-----'"
      ]
     },
     "execution_count": 12,
     "metadata": {},
     "output_type": "execute_result"
    }
   ],
   "source": [
    "#for for centering the string we can use centre()\n",
    "j.center(30,\"-\")"
   ]
  },
  {
   "cell_type": "markdown",
   "metadata": {},
   "source": [
    "10. What is the best way to remove whitespace characters from the start or end?"
   ]
  },
  {
   "cell_type": "code",
   "execution_count": 14,
   "metadata": {},
   "outputs": [
    {
     "data": {
      "text/plain": [
       "'hey This is my String'"
      ]
     },
     "execution_count": 14,
     "metadata": {},
     "output_type": "execute_result"
    }
   ],
   "source": [
    "j=\"       hey This is my String\"\n",
    "#for removing the left whitespaces we can use lstrip method\n",
    "j.lstrip()"
   ]
  },
  {
   "cell_type": "code",
   "execution_count": 15,
   "metadata": {},
   "outputs": [
    {
     "data": {
      "text/plain": [
       "'hey This is my String'"
      ]
     },
     "execution_count": 15,
     "metadata": {},
     "output_type": "execute_result"
    }
   ],
   "source": [
    "j=\"hey This is my String       \"\n",
    "#for removing the right whitespaces we can use lstrip method\n",
    "j.rstrip()\n"
   ]
  },
  {
   "cell_type": "code",
   "execution_count": null,
   "metadata": {},
   "outputs": [],
   "source": []
  }
 ],
 "metadata": {
  "kernelspec": {
   "display_name": "Python 3",
   "language": "python",
   "name": "python3"
  },
  "language_info": {
   "codemirror_mode": {
    "name": "ipython",
    "version": 3
   },
   "file_extension": ".py",
   "mimetype": "text/x-python",
   "name": "python",
   "nbconvert_exporter": "python",
   "pygments_lexer": "ipython3",
   "version": "3.8.5"
  }
 },
 "nbformat": 4,
 "nbformat_minor": 4
}
