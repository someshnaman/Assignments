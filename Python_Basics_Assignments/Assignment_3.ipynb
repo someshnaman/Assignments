{
 "cells": [
  {
   "cell_type": "markdown",
   "metadata": {},
   "source": [
    "1. Why are functions advantageous to have in your programs?"
   ]
  },
  {
   "cell_type": "code",
   "execution_count": null,
   "metadata": {},
   "outputs": [],
   "source": [
    "'''\n",
    "usefulness of Function in program-\n",
    "*Functions stops us from writing same logic again and again. we can bind the login into the function and \n",
    "use it by calling it whenever we want\n",
    "\n",
    "*It helps us to break the code into pieces through which our programme becomes modular and structred way.\n",
    "\n",
    "*It increases the reusability of code.\n",
    "'''"
   ]
  },
  {
   "cell_type": "markdown",
   "metadata": {},
   "source": [
    "2. When does the code in a function run: when it is specified or when it is called?"
   ]
  },
  {
   "cell_type": "code",
   "execution_count": 1,
   "metadata": {},
   "outputs": [
    {
     "name": "stdout",
     "output_type": "stream",
     "text": [
      "my name is Somesh\n"
     ]
    }
   ],
   "source": [
    "'''\n",
    "When code runs when the functions is called\n",
    "'''\n",
    "def name():# Specifying the Function\n",
    "    print('my name is Somesh')\n",
    "\n",
    "    \n",
    "name() # Calling the function"
   ]
  },
  {
   "cell_type": "markdown",
   "metadata": {},
   "source": [
    "3. What statement creates a function?"
   ]
  },
  {
   "cell_type": "code",
   "execution_count": null,
   "metadata": {},
   "outputs": [],
   "source": [
    "'''\n",
    "we need to start with a keyword \"def\" for creaing a Function.\n",
    "'''"
   ]
  },
  {
   "cell_type": "markdown",
   "metadata": {},
   "source": [
    "4. What is the difference between a function and a function call?"
   ]
  },
  {
   "cell_type": "code",
   "execution_count": null,
   "metadata": {},
   "outputs": [],
   "source": [
    "'''\n",
    "when we say a \"Function\" it means there is some function which has been defined.\n",
    "for execution of that function we need to call that function with its name and pass the arguments if required.\n",
    "'''"
   ]
  },
  {
   "cell_type": "markdown",
   "metadata": {},
   "source": [
    "5. How many global scopes are there in a Python program? How many local scopes?"
   ]
  },
  {
   "cell_type": "code",
   "execution_count": 1,
   "metadata": {},
   "outputs": [
    {
     "name": "stdout",
     "output_type": "stream",
     "text": [
      "car bus\n"
     ]
    }
   ],
   "source": [
    "'''\n",
    "There’s only one global Python scope per program execution. This scope remains in existence until the program terminates \n",
    "and all its names are forgotten. Otherwise, the next time you were to run the program,the names would remember their values\n",
    "from the previous run.\n",
    "'''"
   ]
  },
  {
   "cell_type": "markdown",
   "metadata": {},
   "source": [
    "6. What happens to variables in a local scope when the function call returns?"
   ]
  },
  {
   "cell_type": "code",
   "execution_count": 13,
   "metadata": {},
   "outputs": [],
   "source": [
    "'''\n",
    "After the function call returns, the scope of the local variabe is destroyed and these variables are forgotten and it \n",
    "becomes undefined after the function call completes.\n",
    "'''"
   ]
  },
  {
   "cell_type": "markdown",
   "metadata": {},
   "source": [
    "7. What is the concept of a return value? Is it possible to have a return value in an expression?"
   ]
  },
  {
   "cell_type": "code",
   "execution_count": null,
   "metadata": {},
   "outputs": [],
   "source": [
    "'''\n",
    "when we create Function using def statement, we can define the end result or what return value we want through the \n",
    "function call. This is achived by the \"return\" statement using inside the function.\n",
    "\n",
    "and No we can't use return statement outside any expression.\n",
    "'''"
   ]
  },
  {
   "cell_type": "markdown",
   "metadata": {},
   "source": [
    "8. If a function does not have a return statement, what is the return value of a call to that function?"
   ]
  },
  {
   "cell_type": "code",
   "execution_count": 2,
   "metadata": {},
   "outputs": [],
   "source": [
    "'''\n",
    "It will return nothing.\n",
    "'''"
   ]
  },
  {
   "cell_type": "markdown",
   "metadata": {},
   "source": [
    "9. How do you make a function variable refer to the global variable?"
   ]
  },
  {
   "cell_type": "code",
   "execution_count": 4,
   "metadata": {},
   "outputs": [
    {
     "name": "stdout",
     "output_type": "stream",
     "text": [
      "Value of x inside a function : 20\n",
      "20\n"
     ]
    }
   ],
   "source": [
    "'''\n",
    "By using \"global\" Keyboard inside a Function we can refer to Global variable. For ex.  \n",
    "'''\n",
    "# Python program to modify a global\n",
    "# value inside a function\n",
    "  \n",
    "x = 15\n",
    "def change():\n",
    "  \n",
    "    # using a global keyword\n",
    "    global x\n",
    "  \n",
    "    # increment value of a by 5\n",
    "    x = x + 5 \n",
    "    print(\"Value of x inside a function :\", x)\n",
    "change()\n",
    "print(x)# This will return me Glabal variable"
   ]
  },
  {
   "cell_type": "markdown",
   "metadata": {},
   "source": [
    "10. What is the data type of None?"
   ]
  },
  {
   "cell_type": "code",
   "execution_count": 8,
   "metadata": {},
   "outputs": [
    {
     "name": "stdout",
     "output_type": "stream",
     "text": [
      "my name is Somesh\n"
     ]
    },
    {
     "data": {
      "text/plain": [
       "NoneType"
      ]
     },
     "execution_count": 8,
     "metadata": {},
     "output_type": "execute_result"
    }
   ],
   "source": [
    " '''\n",
    " The Data type 'None' represnts absence of a value.for ex. in print() function, it only displays the value on screen\n",
    " insted to storing anything in it and return None\n",
    " \n",
    " '''\n",
    "x=print(\"my name is Somesh\")\n",
    "type(x)"
   ]
  },
  {
   "cell_type": "markdown",
   "metadata": {},
   "source": [
    "11. What does the sentence import areallyourpetsnamederic do?"
   ]
  },
  {
   "cell_type": "code",
   "execution_count": null,
   "metadata": {},
   "outputs": [],
   "source": [
    "'''\n",
    "it will import all the methods available in areallyourpetsnamederic\n",
    "'''"
   ]
  },
  {
   "cell_type": "markdown",
   "metadata": {},
   "source": [
    "12. If you had a bacon() feature in a spam module, what would you call it after importing spam?"
   ]
  },
  {
   "cell_type": "code",
   "execution_count": null,
   "metadata": {},
   "outputs": [],
   "source": [
    "'''\n",
    "import spam\n",
    "\n",
    "x=spam.bacon()   \n",
    "'''"
   ]
  },
  {
   "cell_type": "markdown",
   "metadata": {},
   "source": [
    "13. What can you do to save a programme from crashing if it encounters an error?"
   ]
  },
  {
   "cell_type": "code",
   "execution_count": 16,
   "metadata": {},
   "outputs": [
    {
     "name": "stdout",
     "output_type": "stream",
     "text": [
      "Some error has happend division by zero\n"
     ]
    }
   ],
   "source": [
    "'''\n",
    "we can use exception handling( try ad except) to handle the error and save our programme from crashing. for ex.\n",
    "\n",
    "'''\n",
    "def div(a,b):\n",
    "    try:\n",
    "        return a/b\n",
    "    except Exception as e:        \n",
    "        print(\"Some error has happend\",e)\n",
    "div(5,0)"
   ]
  },
  {
   "cell_type": "markdown",
   "metadata": {},
   "source": [
    "14. What is the purpose of the try clause? What is the purpose of the except clause?"
   ]
  },
  {
   "cell_type": "code",
   "execution_count": null,
   "metadata": {},
   "outputs": [],
   "source": [
    "'''\n",
    "try and except cleauses are used for exception handeling in Python. if we feel there is suspission in our code\n",
    "so for preventing our code to crash we can put that part into try clause if the code runs fine it will proceed further\n",
    "and will not go into except block. if some error is there in the try clause this error can be catched by Except block \n",
    "and it will allow our programme to move furthur instead of breakout.\n",
    "\n",
    "'''"
   ]
  }
 ],
 "metadata": {
  "kernelspec": {
   "display_name": "Python 3",
   "language": "python",
   "name": "python3"
  },
  "language_info": {
   "codemirror_mode": {
    "name": "ipython",
    "version": 3
   },
   "file_extension": ".py",
   "mimetype": "text/x-python",
   "name": "python",
   "nbconvert_exporter": "python",
   "pygments_lexer": "ipython3",
   "version": "3.8.5"
  }
 },
 "nbformat": 4,
 "nbformat_minor": 4
}
