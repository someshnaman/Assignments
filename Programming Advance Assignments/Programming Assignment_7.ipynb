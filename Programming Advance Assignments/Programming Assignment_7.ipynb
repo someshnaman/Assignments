{
 "cells": [
  {
   "cell_type": "markdown",
   "metadata": {},
   "source": [
    "1. Write a function that counts how many concentric layers a rug.\n",
    "\n",
    "\n",
    "Examples\n",
    "\n",
    "count_layers([\n",
    "&quot;AAAA&quot;,\n",
    "&quot;ABBA&quot;,\n",
    "&quot;AAAA&quot;\n",
    "]) ➞ 2\n",
    "\n",
    "count_layers([\n",
    "&quot;AAAAAAAAA&quot;,\n",
    "&quot;ABBBBBBBA&quot;,\n",
    "&quot;ABBAAABBA&quot;,\n",
    "&quot;ABBBBBBBA&quot;,\n",
    "&quot;AAAAAAAAA&quot;\n",
    "]) ➞ 3\n",
    "\n",
    "count_layers([\n",
    "&quot;AAAAAAAAAAA&quot;,\n",
    "&quot;AABBBBBBBAA&quot;,\n",
    "&quot;AABCCCCCBAA&quot;,\n",
    "&quot;AABCAAACBAA&quot;,\n",
    "&quot;AABCADACBAA&quot;,\n",
    "&quot;AABCAAACBAA&quot;,\n",
    "&quot;AABCCCCCBAA&quot;,\n",
    "&quot;AABBBBBBBAA&quot;,\n",
    "&quot;AAAAAAAAAAA&quot;\n",
    "]) ➞ 5"
   ]
  },
  {
   "cell_type": "code",
   "execution_count": 3,
   "metadata": {},
   "outputs": [],
   "source": [
    "def count_layers(list_of_layers):\n",
    "    dict_of_Layer = {}\n",
    "    for layer in list_of_layers:\n",
    "        if layer in dict_of_Layer.keys():\n",
    "            pass\n",
    "        else:\n",
    "            dict_of_Layer[layer]=1\n",
    "    return sum(dict_of_Layer.values())"
   ]
  },
  {
   "cell_type": "code",
   "execution_count": 4,
   "metadata": {},
   "outputs": [
    {
     "data": {
      "text/plain": [
       "5"
      ]
     },
     "execution_count": 4,
     "metadata": {},
     "output_type": "execute_result"
    }
   ],
   "source": [
    "count_layers([ \"AAAAAAAAAAA\", \"AABBBBBBBAA\", \"AABCCCCCBAA\", \"AABCAAACBAA\", \"AABCADACBAA\", \"AABCAAACBAA\", \"AABCCCCCBAA\", \"AABBBBBBBAA\", \"AAAAAAAAAAA\" ])"
   ]
  },
  {
   "cell_type": "code",
   "execution_count": 5,
   "metadata": {},
   "outputs": [
    {
     "data": {
      "text/plain": [
       "3"
      ]
     },
     "execution_count": 5,
     "metadata": {},
     "output_type": "execute_result"
    }
   ],
   "source": [
    "count_layers([ \"AAAAAAAAA\", \"ABBBBBBBA\", \"ABBAAABBA\", \"ABBBBBBBA\", \"AAAAAAAAA\" ]) "
   ]
  },
  {
   "cell_type": "code",
   "execution_count": 6,
   "metadata": {},
   "outputs": [
    {
     "data": {
      "text/plain": [
       "2"
      ]
     },
     "execution_count": 6,
     "metadata": {},
     "output_type": "execute_result"
    }
   ],
   "source": [
    "count_layers([ \"AAAA\", \"ABBA\", \"AAAA\" ]) "
   ]
  },
  {
   "cell_type": "markdown",
   "metadata": {},
   "source": [
    "2- There are many different styles of music and many albums exhibit multiple styles. Create a function that \n",
    "takes a list of musical styles from albums and returns how many styles are unique.\n",
    "\n",
    "Examples\n",
    "\n",
    "unique_styles([\n",
    "&quot;Dub,Dancehall&quot;,\n",
    "&quot;Industrial,Heavy Metal&quot;,\n",
    "&quot;Techno,Dubstep&quot;,\n",
    "&quot;Synth-pop,Euro-Disco&quot;,\n",
    "&quot;Industrial,Techno,Minimal&quot;\n",
    "]) ➞ 9\n",
    "\n",
    "unique_styles([\n",
    "&quot;Soul&quot;,\n",
    "&quot;House,Folk&quot;,\n",
    "&quot;Trance,Downtempo,Big Beat,House&quot;,\n",
    "&quot;Deep House&quot;,\n",
    "&quot;Soul&quot;\n",
    "]) ➞ 7"
   ]
  },
  {
   "cell_type": "code",
   "execution_count": 9,
   "metadata": {},
   "outputs": [],
   "source": [
    "def unique_styles(list_of_musics):\n",
    "    set_of_list = set(list_of_musics)\n",
    "    print(set_of_list)\n",
    "    return len(set_of_list)"
   ]
  },
  {
   "cell_type": "code",
   "execution_count": 10,
   "metadata": {},
   "outputs": [
    {
     "name": "stdout",
     "output_type": "stream",
     "text": [
      "{'Dub,Dancehall', 'Synth-pop,Euro-Disco', 'Industrial,Heavy Metal', 'Techno,Dubstep', 'Industrial,Techno,Minimal'}\n"
     ]
    },
    {
     "data": {
      "text/plain": [
       "5"
      ]
     },
     "execution_count": 10,
     "metadata": {},
     "output_type": "execute_result"
    }
   ],
   "source": [
    "unique_styles([ \"Dub,Dancehall\", \"Industrial,Heavy Metal\", \"Techno,Dubstep\", \"Synth-pop,Euro-Disco\", \"Industrial,Techno,Minimal\" ]) "
   ]
  },
  {
   "cell_type": "markdown",
   "metadata": {},
   "source": [
    "3. Create a function that finds a target number in a list of prime numbers.\n",
    "Implement a binary search algorithm in your function. The target number will\n",
    "be from 2 through 97. If the target is prime then return &quot;yes&quot; else return &quot;no&quot;.\n",
    "\n",
    "Examples\n",
    "\n",
    "primes = [2, 3, 5, 7, 11, 13, 17, 19, 23, 29, 31, 37, 41, 43, 47, 53, 59, 61, 67,\n",
    "71, 73, 79, 83, 89, 97]\n",
    "\n",
    "\n",
    "is_prime(primes, 3) ➞ &quot;yes&quot;\n",
    "\n",
    "is_prime(primes, 4) ➞ &quot;no&quot;\n",
    "\n",
    "is_prime(primes, 67) ➞ &quot;yes&quot;\n",
    "\n",
    "is_prime(primes, 36) ➞ &quot;no&quot;"
   ]
  },
  {
   "cell_type": "code",
   "execution_count": 11,
   "metadata": {},
   "outputs": [],
   "source": [
    "def is_prime(primes,num):\n",
    "    prime_list = sorted(primes)\n",
    "    lower =0\n",
    "    upper =len(prime_list)-1\n",
    "    dict_of_indexes = {'upper':[],\"lower\":[]}\n",
    "    \n",
    "    while upper>lower:\n",
    "        mid_index = (lower+upper)//2\n",
    "        if num==prime_list[mid_index]:\n",
    "            return \"yes\"\n",
    "        else:\n",
    "            if num>prime_list[mid_index]:\n",
    "                if mid_index in dict_of_indexes[\"lower\"]:\n",
    "                    break\n",
    "                else:\n",
    "                    lower = mid_index\n",
    "                    dict_of_indexes[\"lower\"].append(mid_index)\n",
    "            else:\n",
    "                if mid_index in dict_of_indexes[\"upper\"]:\n",
    "                    break\n",
    "                else:\n",
    "                    upper = mid_index\n",
    "                    dict_of_indexes[\"upper\"].append(mid_index)\n",
    "                    \n",
    "    return \"no\"\n",
    "                \n",
    "        \n",
    "        "
   ]
  },
  {
   "cell_type": "code",
   "execution_count": 12,
   "metadata": {},
   "outputs": [
    {
     "data": {
      "text/plain": [
       "'yes'"
      ]
     },
     "execution_count": 12,
     "metadata": {},
     "output_type": "execute_result"
    }
   ],
   "source": [
    "primes = [2, 3, 5, 7, 11, 13, 17, 19, 23, 29, 31, 37, 41, 43, 47, 53, 59, 61, 67, 71, 73, 79, 83, 89, 97]\n",
    "is_prime(primes, 3)"
   ]
  },
  {
   "cell_type": "code",
   "execution_count": 13,
   "metadata": {},
   "outputs": [
    {
     "data": {
      "text/plain": [
       "'no'"
      ]
     },
     "execution_count": 13,
     "metadata": {},
     "output_type": "execute_result"
    }
   ],
   "source": [
    "is_prime(primes, 4)"
   ]
  },
  {
   "cell_type": "markdown",
   "metadata": {},
   "source": [
    "4. Create a function that takes in n, a, b and returns the number of positive\n",
    "values raised to the nth power that lie in the range [a, b], inclusive.\n",
    "\n",
    "Examples\n",
    "\n",
    "power_ranger(2, 49, 65) ➞ 2\n",
    "#2 squares (n^2) lie between 49 and 65, 49 (7^2) and 64 (8^2)\n",
    "\n",
    "power_ranger(3, 1, 27) ➞ 3\n",
    "#3 cubes (n^3) lie between 1 and 27, 1 (1^3), 8 (2^3) and 27 (3^3)\n",
    "\n",
    "power_ranger(10, 1, 5) ➞ 1\n",
    "#1 value raised to the 10th power lies between 1 and 5, 1 (1^10)\n",
    "\n",
    "power_ranger(5, 31, 33) ➞ 1\n",
    "\n",
    "power_ranger(4, 250, 1300) ➞ 3"
   ]
  },
  {
   "cell_type": "code",
   "execution_count": 28,
   "metadata": {},
   "outputs": [],
   "source": [
    "def power_ranger(n,a,b):\n",
    "    list_of_power = []\n",
    "    for num in range(0,a+b//2):\n",
    "        if num**n in range(a,b+1):            \n",
    "            list_of_power.append(num)\n",
    "    \n",
    "#     print(list_of_power)\n",
    "    return len(list_of_power)"
   ]
  },
  {
   "cell_type": "code",
   "execution_count": 29,
   "metadata": {
    "scrolled": true
   },
   "outputs": [
    {
     "data": {
      "text/plain": [
       "2"
      ]
     },
     "execution_count": 29,
     "metadata": {},
     "output_type": "execute_result"
    }
   ],
   "source": [
    "power_ranger(2, 49, 65)"
   ]
  },
  {
   "cell_type": "code",
   "execution_count": 30,
   "metadata": {},
   "outputs": [
    {
     "data": {
      "text/plain": [
       "3"
      ]
     },
     "execution_count": 30,
     "metadata": {},
     "output_type": "execute_result"
    }
   ],
   "source": [
    "power_ranger(3, 1, 27)"
   ]
  },
  {
   "cell_type": "code",
   "execution_count": 31,
   "metadata": {},
   "outputs": [
    {
     "data": {
      "text/plain": [
       "1"
      ]
     },
     "execution_count": 31,
     "metadata": {},
     "output_type": "execute_result"
    }
   ],
   "source": [
    "power_ranger(10, 1, 5)"
   ]
  },
  {
   "cell_type": "code",
   "execution_count": 32,
   "metadata": {},
   "outputs": [
    {
     "data": {
      "text/plain": [
       "3"
      ]
     },
     "execution_count": 32,
     "metadata": {},
     "output_type": "execute_result"
    }
   ],
   "source": [
    "power_ranger(4, 250, 1300) "
   ]
  },
  {
   "cell_type": "markdown",
   "metadata": {},
   "source": [
    "5. Given a number, return the difference between the maximum and minimum\n",
    "numbers that can be formed when the digits are rearranged.\n",
    "\n",
    "Examples\n",
    "\n",
    "rearranged_difference(972882) ➞ 760833\n",
    "\n",
    "#988722 - 227889 = 760833\n",
    "\n",
    "rearranged_difference(3320707) ➞ 7709823\n",
    "\n",
    "#7733200 - 23377 = 7709823\n",
    "\n",
    "rearranged_difference(90010) ➞ 90981\n",
    "\n",
    "#91000 - 19 = 90981"
   ]
  },
  {
   "cell_type": "code",
   "execution_count": 45,
   "metadata": {},
   "outputs": [],
   "source": [
    "def rearranged_difference(num):\n",
    "    digits_Small = sorted(list(str(num)))\n",
    "    digits_large = digits_Small[::-1]\n",
    "    digits_large = int(''.join(digits_large))\n",
    "    digits_Small = int(''.join(digits_Small))\n",
    "    return digits_large-digits_Small"
   ]
  },
  {
   "cell_type": "code",
   "execution_count": 46,
   "metadata": {},
   "outputs": [
    {
     "data": {
      "text/plain": [
       "760833"
      ]
     },
     "execution_count": 46,
     "metadata": {},
     "output_type": "execute_result"
    }
   ],
   "source": [
    "rearranged_difference(972882)"
   ]
  },
  {
   "cell_type": "code",
   "execution_count": 47,
   "metadata": {},
   "outputs": [
    {
     "data": {
      "text/plain": [
       "7709823"
      ]
     },
     "execution_count": 47,
     "metadata": {},
     "output_type": "execute_result"
    }
   ],
   "source": [
    "rearranged_difference(3320707)"
   ]
  },
  {
   "cell_type": "code",
   "execution_count": null,
   "metadata": {},
   "outputs": [],
   "source": []
  }
 ],
 "metadata": {
  "kernelspec": {
   "display_name": "Python 3",
   "language": "python",
   "name": "python3"
  },
  "language_info": {
   "codemirror_mode": {
    "name": "ipython",
    "version": 3
   },
   "file_extension": ".py",
   "mimetype": "text/x-python",
   "name": "python",
   "nbconvert_exporter": "python",
   "pygments_lexer": "ipython3",
   "version": "3.8.5"
  }
 },
 "nbformat": 4,
 "nbformat_minor": 4
}
