{
  "nbformat": 4,
  "nbformat_minor": 0,
  "metadata": {
    "colab": {
      "name": "Programming Assignment_2.ipynb",
      "provenance": []
    },
    "kernelspec": {
      "name": "python3",
      "display_name": "Python 3"
    },
    "language_info": {
      "name": "python"
    }
  },
  "cells": [
    {
      "cell_type": "markdown",
      "source": [
        "1. Write a Python program to convert kilometers to miles?"
      ],
      "metadata": {
        "id": "QX0Nx88yVrJ3"
      }
    },
    {
      "cell_type": "code",
      "source": [
        "def conv(km):\n",
        "  return f\"{km} is equals to {0.62*km} Miles\""
      ],
      "metadata": {
        "id": "7iVU6iJ_Vu84"
      },
      "execution_count": 3,
      "outputs": []
    },
    {
      "cell_type": "code",
      "source": [
        "# Convert 5 Km into Miles\n",
        "conv(5)"
      ],
      "metadata": {
        "colab": {
          "base_uri": "https://localhost:8080/",
          "height": 35
        },
        "id": "5yYA_2-0V39c",
        "outputId": "d7e560d4-0beb-4df0-c2be-b4ab5b4f99be"
      },
      "execution_count": 4,
      "outputs": [
        {
          "output_type": "execute_result",
          "data": {
            "application/vnd.google.colaboratory.intrinsic+json": {
              "type": "string"
            },
            "text/plain": [
              "'5 is equals to 3.1 Miles'"
            ]
          },
          "metadata": {},
          "execution_count": 4
        }
      ]
    },
    {
      "cell_type": "markdown",
      "source": [
        "2. Write a Python program to convert Celsius to Fahrenheit?"
      ],
      "metadata": {
        "id": "u94aS44WWQk4"
      }
    },
    {
      "cell_type": "code",
      "source": [
        "def celtoFeran(celsius):\n",
        "  feren = (celsius*9/5) + 32\n",
        "  return f\"{celsius} degree Celsius is equals to Degree {feren}\"\n"
      ],
      "metadata": {
        "id": "u5CmhdSZWPoU"
      },
      "execution_count": 7,
      "outputs": []
    },
    {
      "cell_type": "code",
      "source": [
        "celtoFeran(5)"
      ],
      "metadata": {
        "colab": {
          "base_uri": "https://localhost:8080/",
          "height": 35
        },
        "id": "8qmDrykiV9tc",
        "outputId": "a8c91779-d3c7-4442-f5d0-540d07775041"
      },
      "execution_count": 8,
      "outputs": [
        {
          "output_type": "execute_result",
          "data": {
            "application/vnd.google.colaboratory.intrinsic+json": {
              "type": "string"
            },
            "text/plain": [
              "'5 degree Celsius is equals to Degree 41.0'"
            ]
          },
          "metadata": {},
          "execution_count": 8
        }
      ]
    },
    {
      "cell_type": "markdown",
      "source": [
        "3. Write a Python program to display calendar?"
      ],
      "metadata": {
        "id": "kIfRmk87Xm0-"
      }
    },
    {
      "cell_type": "code",
      "source": [
        "import calendar\n",
        "def calender(yy,mm):\n",
        "  print(calendar.month(yy,mm)) "
      ],
      "metadata": {
        "id": "5aJZTbGcXYM1"
      },
      "execution_count": 14,
      "outputs": []
    },
    {
      "cell_type": "code",
      "source": [
        "calender(2014, 8)"
      ],
      "metadata": {
        "colab": {
          "base_uri": "https://localhost:8080/"
        },
        "id": "3jIzmjf7X_5Q",
        "outputId": "e9639181-45bd-4250-d30c-4657e38dd3f9"
      },
      "execution_count": 15,
      "outputs": [
        {
          "output_type": "stream",
          "name": "stdout",
          "text": [
            "    August 2014\n",
            "Mo Tu We Th Fr Sa Su\n",
            "             1  2  3\n",
            " 4  5  6  7  8  9 10\n",
            "11 12 13 14 15 16 17\n",
            "18 19 20 21 22 23 24\n",
            "25 26 27 28 29 30 31\n",
            "\n"
          ]
        }
      ]
    },
    {
      "cell_type": "markdown",
      "source": [
        "4. Write a Python program to solve quadratic equation?"
      ],
      "metadata": {
        "id": "fkttxpX1YraU"
      }
    },
    {
      "cell_type": "code",
      "source": [
        "import math\n",
        "def quadSol():\n",
        "  # Suppose we have Quadratic equation ax2 +bx+c\n",
        "  # their from shreedharacharya Method the Solution would be\n",
        "  # _(-b ± (b ** 2 - 4 * a * c) ** 0.5) / (2 * a)\n",
        "  a = int(input(\"Please input a: \"))\n",
        "  b = int(input(\"Please input b: \"))\n",
        "  c = int(input(\"Please input c: \"))\n",
        "\n",
        "  first_sol = (-b + (b**2-4*a*c)**.5)/2*a\n",
        "  Sec_sol = (-b - (b**2-4*a*c)**.5)/2*a\n",
        "  return f\"First Sol : {(first_sol)} and second Sol : {Sec_sol}\""
      ],
      "metadata": {
        "id": "URwNRkLbYBcM"
      },
      "execution_count": 23,
      "outputs": []
    },
    {
      "cell_type": "code",
      "source": [
        "quadSol()"
      ],
      "metadata": {
        "colab": {
          "base_uri": "https://localhost:8080/",
          "height": 87
        },
        "id": "Y-IjHl2_bPg5",
        "outputId": "90108ddd-b225-4619-ea40-4d34e44a657a"
      },
      "execution_count": 24,
      "outputs": [
        {
          "name": "stdout",
          "output_type": "stream",
          "text": [
            "Please input a: 1\n",
            "Please input b: 4\n",
            "Please input c: 12\n"
          ]
        },
        {
          "output_type": "execute_result",
          "data": {
            "application/vnd.google.colaboratory.intrinsic+json": {
              "type": "string"
            },
            "text/plain": [
              "'First Sol : (-1.9999999999999998+2.8284271247461903j) and second Sol : (-2-2.8284271247461903j)'"
            ]
          },
          "metadata": {},
          "execution_count": 24
        }
      ]
    },
    {
      "cell_type": "markdown",
      "source": [
        "5. Write a Python program to swap two variables without temp variable?"
      ],
      "metadata": {
        "id": "scDdpa_Bd91q"
      }
    },
    {
      "cell_type": "code",
      "source": [
        "def swap(a,b):\n",
        "  a,b=b,a\n",
        "  return f\"a: {a} | b: {b}\""
      ],
      "metadata": {
        "id": "Dz77lcqGci_z"
      },
      "execution_count": 25,
      "outputs": []
    },
    {
      "cell_type": "code",
      "source": [
        "swap(4,6)"
      ],
      "metadata": {
        "colab": {
          "base_uri": "https://localhost:8080/",
          "height": 35
        },
        "id": "7_UBfX_KeNRG",
        "outputId": "d52e153a-847e-4a85-fbca-17d66429dede"
      },
      "execution_count": 27,
      "outputs": [
        {
          "output_type": "execute_result",
          "data": {
            "application/vnd.google.colaboratory.intrinsic+json": {
              "type": "string"
            },
            "text/plain": [
              "'a: 6 | b: 4'"
            ]
          },
          "metadata": {},
          "execution_count": 27
        }
      ]
    },
    {
      "cell_type": "code",
      "source": [
        ""
      ],
      "metadata": {
        "id": "u-t7TI2PePT9"
      },
      "execution_count": null,
      "outputs": []
    }
  ]
}