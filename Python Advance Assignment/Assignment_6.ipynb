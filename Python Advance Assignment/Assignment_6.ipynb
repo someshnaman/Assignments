{
  "nbformat": 4,
  "nbformat_minor": 0,
  "metadata": {
    "colab": {
      "name": " Assignment_6.ipynb",
      "provenance": []
    },
    "kernelspec": {
      "name": "python3",
      "display_name": "Python 3"
    },
    "language_info": {
      "name": "python"
    }
  },
  "cells": [
    {
      "cell_type": "markdown",
      "source": [
        "Q1. Describe three applications for exception processing."
      ],
      "metadata": {
        "id": "amCV8W3-sHgD"
      }
    },
    {
      "cell_type": "markdown",
      "source": [
        "Ans - 1- if Some Error comes up in between of your code then it is handeled by exception handeling so that your program won't stop.\n",
        "22- We can log those exception in our Logging for furthur debugging and imrooving our code."
      ],
      "metadata": {
        "id": "pvrpfNDcsJkB"
      }
    },
    {
      "cell_type": "markdown",
      "source": [
        "Q2. What happens if you don&#39;t do something extra to treat an exception?"
      ],
      "metadata": {
        "id": "j38tz3ZusonJ"
      }
    },
    {
      "cell_type": "markdown",
      "source": [
        "Ans - If there are bugs in our programme and we;ved not handled it then our program will stop at that point."
      ],
      "metadata": {
        "id": "1XkZkhOkspWJ"
      }
    },
    {
      "cell_type": "markdown",
      "source": [
        "Q3. What are your options for recovering from an exception in your script?"
      ],
      "metadata": {
        "id": "TnQqlgKhs7cH"
      }
    },
    {
      "cell_type": "markdown",
      "source": [
        "Q4. Describe two methods for triggering exceptions in your script."
      ],
      "metadata": {
        "id": "zKwsd9Fts8eI"
      }
    },
    {
      "cell_type": "markdown",
      "source": [
        "Ans -  Suppose x =open('file.txt') and if this file doesnt exist our script will through us error which we will want our use to see so we can put this in try block if no error int here our code flow will be good otherwise either we can log the error in except blocck or print somthing  .\n"
      ],
      "metadata": {
        "id": "mTs2wkxhua52"
      }
    },
    {
      "cell_type": "markdown",
      "source": [
        "Q5. Identify two methods for specifying actions to be executed at termination time, regardless of\n",
        "whether or not an exception exists."
      ],
      "metadata": {
        "id": "HdbrunOxuwVG"
      }
    },
    {
      "cell_type": "markdown",
      "source": [
        "Ans - I don't know about this answer"
      ],
      "metadata": {
        "id": "YC3LbEByu-lc"
      }
    },
    {
      "cell_type": "code",
      "source": [
        ""
      ],
      "metadata": {
        "id": "zMrcLv0pwLou"
      },
      "execution_count": null,
      "outputs": []
    }
  ]
}