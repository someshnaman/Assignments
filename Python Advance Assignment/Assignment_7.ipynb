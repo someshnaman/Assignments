{
 "cells": [
  {
   "cell_type": "markdown",
   "id": "8f912483",
   "metadata": {},
   "source": [
    "Q1. What is the purpose of the try statement?"
   ]
  },
  {
   "cell_type": "markdown",
   "id": "c3f916e1",
   "metadata": {},
   "source": [
    "Ans - To Handle the Errors and exceptions we use Try and except in our code."
   ]
  },
  {
   "cell_type": "markdown",
   "id": "54edd61c",
   "metadata": {},
   "source": [
    "Q2. What are the two most popular try statement variations?"
   ]
  },
  {
   "cell_type": "markdown",
   "id": "c4437935",
   "metadata": {},
   "source": [
    "Ans - There are many but ImportError and EOFError is most common one in my opinion which can be put in try block."
   ]
  },
  {
   "cell_type": "markdown",
   "id": "66ccd037",
   "metadata": {},
   "source": [
    "Q3. What is the purpose of the raise statement?"
   ]
  },
  {
   "cell_type": "markdown",
   "id": "39ca84ef",
   "metadata": {},
   "source": [
    "Ans - The purpose of raise statement to raise error so that we can debug our code and remove the bugs."
   ]
  },
  {
   "cell_type": "markdown",
   "id": "d69c123a",
   "metadata": {},
   "source": [
    "Q4. What does the assert statement do, and what other statement is it like?"
   ]
  },
  {
   "cell_type": "code",
   "execution_count": 5,
   "id": "530224b3",
   "metadata": {},
   "outputs": [
    {
     "ename": "AssertionError",
     "evalue": "",
     "output_type": "error",
     "traceback": [
      "\u001b[1;31m---------------------------------------------------------------------------\u001b[0m",
      "\u001b[1;31mAssertionError\u001b[0m                            Traceback (most recent call last)",
      "\u001b[1;32mC:\\Users\\TECHNO~1\\AppData\\Local\\Temp/ipykernel_8268/3470368457.py\u001b[0m in \u001b[0;36m<module>\u001b[1;34m\u001b[0m\n\u001b[0;32m      2\u001b[0m \u001b[1;32massert\u001b[0m \u001b[1;36m3\u001b[0m\u001b[1;33m>\u001b[0m\u001b[1;36m2\u001b[0m \u001b[1;31m# Here the assertion is true there for our code will not htrough an error\u001b[0m\u001b[1;33m\u001b[0m\u001b[1;33m\u001b[0m\u001b[0m\n\u001b[0;32m      3\u001b[0m \u001b[1;31m# Let's take another example\u001b[0m\u001b[1;33m\u001b[0m\u001b[1;33m\u001b[0m\u001b[0m\n\u001b[1;32m----> 4\u001b[1;33m \u001b[1;32massert\u001b[0m \u001b[1;36m3\u001b[0m\u001b[1;33m<\u001b[0m\u001b[1;36m2\u001b[0m \u001b[1;31m# This statement is not correct that's why it is showing us assertion error\u001b[0m\u001b[1;33m\u001b[0m\u001b[1;33m\u001b[0m\u001b[0m\n\u001b[0m",
      "\u001b[1;31mAssertionError\u001b[0m: "
     ]
    }
   ],
   "source": [
    "# Ans- LEt's try to under this with an example\n",
    "assert 3>2 # Here the assertion is true there for our code will not htrough an error\n",
    "# Let's take another example\n",
    "assert 3<2 # This statement is not correct that's why it is showing us assertion error\n"
   ]
  },
  {
   "cell_type": "markdown",
   "id": "65f997bd",
   "metadata": {},
   "source": [
    "Q5. What is the purpose of the with/as argument, and what other statement is it like?"
   ]
  },
  {
   "cell_type": "code",
   "execution_count": null,
   "id": "929bd78e",
   "metadata": {},
   "outputs": [],
   "source": [
    "Ans- Through with statement we try to open some file in python. With statement is usefull because at automatically closses the file we dont need to sp"
   ]
  }
 ],
 "metadata": {
  "kernelspec": {
   "display_name": "Python 3 (ipykernel)",
   "language": "python",
   "name": "python3"
  },
  "language_info": {
   "codemirror_mode": {
    "name": "ipython",
    "version": 3
   },
   "file_extension": ".py",
   "mimetype": "text/x-python",
   "name": "python",
   "nbconvert_exporter": "python",
   "pygments_lexer": "ipython3",
   "version": "3.9.7"
  }
 },
 "nbformat": 4,
 "nbformat_minor": 5
}
