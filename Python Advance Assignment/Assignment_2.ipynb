{
  "nbformat": 4,
  "nbformat_minor": 0,
  "metadata": {
    "colab": {
      "name": "Assignment_2.ipynb",
      "provenance": []
    },
    "kernelspec": {
      "name": "python3",
      "display_name": "Python 3"
    },
    "language_info": {
      "name": "python"
    }
  },
  "cells": [
    {
      "cell_type": "markdown",
      "source": [
        "Q1. What is the relationship between classes and modules?"
      ],
      "metadata": {
        "id": "oHKFWaWAgKb5"
      }
    },
    {
      "cell_type": "markdown",
      "source": [
        "Ans - Classes are real word entities used in programming . modules are Set of classes."
      ],
      "metadata": {
        "id": "Fyw4fI2dgPn3"
      }
    },
    {
      "cell_type": "markdown",
      "source": [
        "Q2. How do you make instances and classes?"
      ],
      "metadata": {
        "id": "il1xsQ-kgyOS"
      }
    },
    {
      "cell_type": "markdown",
      "source": [
        "Ans - Create a class we start with class <Classname>: for creating instance of a class we create an object of that class ex. my class is Person and my instance name ins somesh = Person"
      ],
      "metadata": {
        "id": "_YmbKqHEg06l"
      }
    },
    {
      "cell_type": "markdown",
      "source": [
        "Q3. Where and how should be class attributes created?"
      ],
      "metadata": {
        "id": "8PgICb20h9lc"
      }
    },
    {
      "cell_type": "markdown",
      "source": [
        "Ans - Class attributes are mainly created in tn the class., Suppose I've a class names School so we can define the name of the school as class attribute as name of the school will be same for all the students.\n",
        "ex. \n",
        "\n",
        "class Students:\n",
        "\n",
        "      nam_of_school = 'Dav School\""
      ],
      "metadata": {
        "id": "j6f3J3zakPzr"
      }
    },
    {
      "cell_type": "markdown",
      "source": [
        "Q4. Where and how are instance attributes created?"
      ],
      "metadata": {
        "id": "o5HGHq-3k8ix"
      }
    },
    {
      "cell_type": "markdown",
      "source": [
        "Ans -  Instance Attributes are mainly defined in the __init__ (constructor) method of the class"
      ],
      "metadata": {
        "id": "ooock9Udk-Gp"
      }
    },
    {
      "cell_type": "markdown",
      "source": [
        "Q5. What does the term &quot;self&quot; in a Python class mean?"
      ],
      "metadata": {
        "id": "qDl-IEOQmsoo"
      }
    },
    {
      "cell_type": "markdown",
      "source": [
        "Ans - Self is just a notion which is a variable to connect the menthod to the class it's not like we've to use self only we can use anything even our name would work."
      ],
      "metadata": {
        "id": "fEys712Mmtb3"
      }
    },
    {
      "cell_type": "markdown",
      "source": [
        "Q6. How does a Python class handle operator overloading?"
      ],
      "metadata": {
        "id": "R87nRhrqnVF3"
      }
    },
    {
      "cell_type": "code",
      "source": [
        ""
      ],
      "metadata": {
        "id": "5iXJU4lqrEDe"
      },
      "execution_count": null,
      "outputs": []
    },
    {
      "cell_type": "markdown",
      "source": [
        "Ans -  Suppose we want to chane the additive operator then we can define __add__ in Class as our own way"
      ],
      "metadata": {
        "id": "un-qbXfbq_Ga"
      }
    },
    {
      "cell_type": "markdown",
      "source": [
        "Q7. When do you consider allowing operator overloading of your classes?"
      ],
      "metadata": {
        "id": "YRe5vrESrGGc"
      }
    },
    {
      "cell_type": "markdown",
      "source": [
        ""
      ],
      "metadata": {
        "id": "1ZZucSaurH3j"
      }
    },
    {
      "cell_type": "code",
      "source": [
        ""
      ],
      "metadata": {
        "id": "gejb16QAkLia"
      },
      "execution_count": null,
      "outputs": []
    },
    {
      "cell_type": "code",
      "source": [
        ""
      ],
      "metadata": {
        "id": "9h85lNJjjFCI"
      },
      "execution_count": null,
      "outputs": []
    }
  ]
}