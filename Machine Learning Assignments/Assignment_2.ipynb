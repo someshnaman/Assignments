{
 "cells": [
  {
   "cell_type": "markdown",
   "metadata": {},
   "source": [
    "1. What is the concept of human learning? Please give two examples."
   ]
  },
  {
   "cell_type": "markdown",
   "metadata": {},
   "source": [
    "I'd like to give the answer in a very basic way. Supoose a child has born.  As soon as he/she comes to this world he/she know nothing about this world. but as soon as they interact with our environment we they takes their beheviral changes.\n",
    "example- a new born boy would not know wheather to touch a hot cattle or what harm it can cause to him and as soon as he touches that cattle he learned somewhere in mind that this thing we're not supposed to touch.\n",
    "2nd Ex- As a Student we all try to read something process something and that retains in our memory . and related to that incident if something comes up in futurethen he can remeber that this thing he has leart somewhere."
   ]
  },
  {
   "cell_type": "markdown",
   "metadata": {},
   "source": [
    "2. 3. What is machine learning, and how does it work? What are the key responsibilities of machine\n",
    "learning?"
   ]
  },
  {
   "cell_type": "markdown",
   "metadata": {},
   "source": [
    "Enabling machine to perform some tasks which they are not specifically programmed for can be known as Machine learning.\n",
    "the key responsility of Machine learning is to learn patterns from the historical Data and can predict future inctances as per the Historical data."
   ]
  },
  {
   "cell_type": "markdown",
   "metadata": {},
   "source": [
    "4. Define the terms &quot;penalty&quot; and &quot;reward&quot; in the context of reinforcement learning."
   ]
  },
  {
   "cell_type": "markdown",
   "metadata": {},
   "source": [
    "penality and reward are the way to teach machines to act in future.\n",
    "ex. Suppose there is Robot and he came across with Fire then he will have a penaulty this penaulty will make sure that in future it is and harmfull incident and he has to avoid it in future. whereas we give some reward points if he acts as per the requirements."
   ]
  },
  {
   "cell_type": "markdown",
   "metadata": {},
   "source": [
    "5. Explain the term &quot;learning as a search&quot;?"
   ]
  },
  {
   "cell_type": "code",
   "execution_count": null,
   "metadata": {},
   "outputs": [],
   "source": []
  },
  {
   "cell_type": "markdown",
   "metadata": {},
   "source": [
    "6. What are the various goals of machine learning? What is the relationship between these and\n",
    "human learning?"
   ]
  },
  {
   "cell_type": "markdown",
   "metadata": {},
   "source": [
    "The main goal of mL is to find out the relationship and patterns from the historical data and take a decision acoordingly.\n",
    "the Machine learning is inspired by Human learning only. Suppose we're reading a Book w=so we're also exactly trying tp gather the data process the data and understand about it."
   ]
  },
  {
   "cell_type": "markdown",
   "metadata": {},
   "source": [
    "7. Illustrate the various elements of machine learning using a real-life illustration."
   ]
  },
  {
   "cell_type": "markdown",
   "metadata": {},
   "source": [
    "Image regognisition is getting really popular nowadays which works on the same concept likes humans recognize images.\n",
    "for example -We' see people around and understand who is who according to their facial features. Throu machine learning we also try to teach machine same features so that in feature if Machine sees picture of him/her then it can recoginze."
   ]
  },
  {
   "cell_type": "markdown",
   "metadata": {},
   "source": [
    "8. Provide an example of the abstraction method."
   ]
  },
  {
   "cell_type": "markdown",
   "metadata": {},
   "source": [
    "Abstraction is a simplification of the representation of a problem which enables that problem to be solved more efficiently (using less memory and/or less computation). Examples of data abstraction are:\n",
    "\n",
    "Reducing spatial/temporal resolution.\n",
    "Discretise continuous variables into important goal-oriented ranges.\n",
    "\n",
    "Classify patterns by discrete labels.\n",
    "\n",
    "Reduce dimensionality by projection onto a subspace.\n",
    "\n"
   ]
  },
  {
   "cell_type": "markdown",
   "metadata": {},
   "source": [
    "9. What is the concept of generalization? What function does it play in the machine learning\n",
    "process?"
   ]
  },
  {
   "cell_type": "markdown",
   "metadata": {},
   "source": [
    "Generalization refers to your model's ability to adapt properly to new, previously unseen data, drawn from the same distribution as the one used to create the model.\n",
    "it plays a very important play in Machine learning because if our model is predicting wrong information then  there would be no us eof machine learning.  to conquer this problem ml retraining approach is been used."
   ]
  },
  {
   "cell_type": "markdown",
   "metadata": {},
   "source": [
    "10-What is classification, exactly? What are the main distinctions between classification and regression?"
   ]
  },
  {
   "cell_type": "markdown",
   "metadata": {},
   "source": [
    "Ans - let's take a Scenerio suppose we've to predict the person is defaulter or not. here there we've to distiguis between two classes wheather a persor is defaulter or not. This is a classic example of classification ML problem.\n",
    "\n",
    "in regression we try to predict absolute value for example predicting sales. whereas in classificatiuon we try to distiguish between classes."
   ]
  },
  {
   "cell_type": "markdown",
   "metadata": {},
   "source": [
    "11. What is regression, and how does it work? Give an example of a real-world problem that was\n",
    "solved using regression."
   ]
  },
  {
   "cell_type": "markdown",
   "metadata": {},
   "source": [
    "finding out the pattern and relationship between  historical data and predicting the absolute value accoding to it's previsous learning is an classic example of regression problem.\n",
    "I've predicted the Restaurent rating  as per their historical attributes."
   ]
  },
  {
   "cell_type": "markdown",
   "metadata": {},
   "source": [
    "12. Describe the clustering mechanism in detail."
   ]
  },
  {
   "cell_type": "markdown",
   "metadata": {},
   "source": [
    "Grouping up the data which have similer properties is known as Clustering mechanism."
   ]
  },
  {
   "cell_type": "markdown",
   "metadata": {},
   "source": [
    "13. Make brief observations on two of the following topics:\n",
    "\n",
    "i. Machine learning algorithms are used\n",
    "ii. Studying under supervision\n",
    "iii. Studying without supervision\n",
    "\n",
    "iv. Reinforcement learning is a form of learning based on positive reinforcement."
   ]
  },
  {
   "cell_type": "markdown",
   "metadata": {},
   "source": [
    "MAchine learning used in supervision are known as Supervised machine learning whereas machinelearning whereas Clustering Ml comes under unsupervised ML approach."
   ]
  },
  {
   "cell_type": "code",
   "execution_count": null,
   "metadata": {},
   "outputs": [],
   "source": []
  }
 ],
 "metadata": {
  "kernelspec": {
   "display_name": "Python 3",
   "language": "python",
   "name": "python3"
  },
  "language_info": {
   "codemirror_mode": {
    "name": "ipython",
    "version": 3
   },
   "file_extension": ".py",
   "mimetype": "text/x-python",
   "name": "python",
   "nbconvert_exporter": "python",
   "pygments_lexer": "ipython3",
   "version": "3.8.5"
  }
 },
 "nbformat": 4,
 "nbformat_minor": 4
}
